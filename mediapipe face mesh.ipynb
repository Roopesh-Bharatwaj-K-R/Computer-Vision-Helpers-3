{
 "cells": [
  {
   "cell_type": "code",
   "execution_count": null,
   "id": "c4407c9b",
   "metadata": {},
   "outputs": [],
   "source": [
    "import cv2\n",
    "import mediapipe as mp\n",
    "import numpy as np\n",
    "import glob"
   ]
  },
  {
   "cell_type": "code",
   "execution_count": null,
   "id": "05b4ac29",
   "metadata": {},
   "outputs": [],
   "source": [
    "# Mediapipe drawing utils and holistics\n",
    "\n",
    "mp_drawing= mp.solutions.drawing_utils\n",
    "mp_holistic =mp.solutions.holistic\n",
    "mp_face_mesh = mp.solutions.face_mesh"
   ]
  },
  {
   "cell_type": "code",
   "execution_count": null,
   "id": "a67addc2",
   "metadata": {},
   "outputs": [],
   "source": [
    "# For static images:\n",
    "path  =('/home/roopesh/Desktop/MediaPipe /cv-exp-framework-master/images/*.png')\n",
    "# for idx, file in enumerate(path):\n",
    "#     image = cv2.imread(file)\n",
    "for idx, file in enumerate (glob.glob(path)):\n",
    "    image = cv2.imread(file)\n",
    "\n",
    "    drawing_spec = mp_drawing.DrawingSpec(thickness=1, circle_radius=1)\n",
    "\n",
    "    with mp_face_mesh.FaceMesh(static_image_mode=True,max_num_faces=1,refine_landmarks=True,\n",
    "                               min_detection_confidence=0.5) as face_mesh:\n",
    "        # Convert the BGR image to RGB before processing.\n",
    "        cv2.imshow('',image)\n",
    "        results = face_mesh.process(cv2.cvtColor(image, cv2.COLOR_BGR2RGB))\n",
    "\n",
    "        # Print and draw face mesh landmarks on the image.\n",
    "        if not results.multi_face_landmarks:\n",
    "          continue\n",
    "        annotated_image = image.copy()\n",
    "        for face_landmarks in results.multi_face_landmarks:\n",
    "          print('face_landmarks:', face_landmarks)\n",
    "\n",
    "          # 2. Draw face landmarks with contours\n",
    "        mp_drawing.draw_landmarks(image, results.face_landmarks, mp_holistic.FACEMESH_CONTOURS,\n",
    "                                 mp_drawing.DrawingSpec(color=(80,110,10), thickness=1, circle_radius=1),\n",
    "                                 mp_drawing.DrawingSpec(color=(171,156,156), thickness=2, circle_radius=1)\n",
    "                                 )\n",
    "\n",
    "\n",
    "        # 3. Draw face landmarks with facemesh\n",
    "        mp_drawing.draw_landmarks(image, results.face_landmarks, mp_holistic.FACEMESH_TESSELATION,\n",
    "                                 mp_drawing.DrawingSpec(color=(80,110,10), thickness=1, circle_radius=1),\n",
    "                                 mp_drawing.DrawingSpec(color=(125,118,118), thickness=1, circle_radius=1)\n",
    "                                 )\n",
    "\n",
    "    #      cv2.imwrite('/Home/Desktop/annotated_image' + str(idx) + '.png', annotated_image)\n",
    "#         cv2.imshow('',annotated_image)\n",
    "        cv2.imshow('',image)\n",
    "        cv2.waitKey(100)\n",
    "\n",
    "\n",
    "\n",
    "\n",
    "    \n",
    "    \n",
    "    "
   ]
  },
  {
   "cell_type": "code",
   "execution_count": null,
   "id": "0e863cb2",
   "metadata": {},
   "outputs": [],
   "source": []
  }
 ],
 "metadata": {
  "kernelspec": {
   "display_name": "Python 3",
   "language": "python",
   "name": "python3"
  },
  "language_info": {
   "codemirror_mode": {
    "name": "ipython",
    "version": 3
   },
   "file_extension": ".py",
   "mimetype": "text/x-python",
   "name": "python",
   "nbconvert_exporter": "python",
   "pygments_lexer": "ipython3",
   "version": "3.7.11"
  }
 },
 "nbformat": 4,
 "nbformat_minor": 5
}
