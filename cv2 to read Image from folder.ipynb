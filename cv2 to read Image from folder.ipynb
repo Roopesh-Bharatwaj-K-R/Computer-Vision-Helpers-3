{
 "cells": [
  {
   "cell_type": "code",
   "execution_count": 5,
   "id": "14cba9a3",
   "metadata": {},
   "outputs": [],
   "source": [
    "import cv2\n",
    "import glob\n",
    "\n",
    "imdir = '/home/roopesh/Desktop/MediaPipe /cv-exp-framework-master/images'\n",
    "ext = ['png', 'jpg', 'gif']    # Add image formats here\n",
    "\n",
    "files = []\n",
    "[files.extend(glob.glob(imdir + '*.' + e)) for e in ext]\n",
    "\n",
    "images = [cv2.imread(file) for file in files]\n",
    "print(len(images))\n",
    "cv2.imshow('',images)\n",
    "cv2.waitkey(10000)\n",
    "cv2.destroyAllWindows()"
   ]
  },
  {
   "cell_type": "code",
   "execution_count": 8,
   "id": "ee06cf4f",
   "metadata": {},
   "outputs": [],
   "source": [
    "import glob\n",
    "import cv2\n",
    "\n",
    "images = [cv2.imread(file) for file in glob.glob(\"/home/roopesh/Desktop/MediaPipe /cv-exp-framework-master/images/*.png\")]"
   ]
  },
  {
   "cell_type": "code",
   "execution_count": 9,
   "id": "48f78375",
   "metadata": {},
   "outputs": [
    {
     "data": {
      "text/plain": [
       "0"
      ]
     },
     "execution_count": 9,
     "metadata": {},
     "output_type": "execute_result"
    }
   ],
   "source": [
    "# len(images)"
   ]
  },
  {
   "cell_type": "code",
   "execution_count": 39,
   "id": "ba58877e",
   "metadata": {},
   "outputs": [],
   "source": [
    "import glob\n",
    "import cv2 as cv\n",
    "\n",
    "path = glob.glob('/home/roopesh/Desktop/MediaPipe/cv-exp-framework-master/images/*.png')\n",
    "for img in path:\n",
    "    n = cv.imread(img)\n",
    "    cv_img.append(n)\n",
    "    \n",
    "    \n"
   ]
  },
  {
   "cell_type": "code",
   "execution_count": 40,
   "id": "4ee31f08",
   "metadata": {},
   "outputs": [],
   "source": [
    "import cv2\n",
    "import os\n",
    "\n",
    "def load_images_from_folder(folder):\n",
    "    images = []\n",
    "    for filename in os.listdir(folder):\n",
    "        img = cv2.imread(os.path.join(folder,filename))\n",
    "        if img is not None:\n",
    "            images.append(img)\n",
    "    return images\n",
    "def main():\n",
    "    load_images_from_folder(\"/home/roopesh/Desktop/image\")"
   ]
  },
  {
   "cell_type": "code",
   "execution_count": 41,
   "id": "77089941",
   "metadata": {},
   "outputs": [
    {
     "data": {
      "text/plain": [
       "[]"
      ]
     },
     "execution_count": 41,
     "metadata": {},
     "output_type": "execute_result"
    }
   ],
   "source": [
    "images"
   ]
  },
  {
   "cell_type": "code",
   "execution_count": 44,
   "id": "5ae13fe0",
   "metadata": {},
   "outputs": [],
   "source": [
    "import glob\n",
    "cv_img = []\n",
    "for img in glob.glob(\"\\home\\roopesh\\Desktop\\image\"):\n",
    "    n= cv2.imread(img)\n",
    "    cv_img.append(n)"
   ]
  },
  {
   "cell_type": "code",
   "execution_count": 45,
   "id": "f302b698",
   "metadata": {},
   "outputs": [
    {
     "data": {
      "text/plain": [
       "[]"
      ]
     },
     "execution_count": 45,
     "metadata": {},
     "output_type": "execute_result"
    }
   ],
   "source": [
    "cv_img"
   ]
  },
  {
   "cell_type": "code",
   "execution_count": 47,
   "id": "285fc44e",
   "metadata": {},
   "outputs": [],
   "source": [
    "#import the library opencv\n",
    "import cv2\n",
    "#globbing utility.\n",
    "import glob\n",
    "#select the path\n",
    "#I have provided my path from my local computer, please change it accordingly\n",
    "path = (\"\\home\\roopesh\\Desktop\\image\\*.*\")\n",
    "for file in glob.glob(path):\n",
    "    image_read = cv2.imread(file)\n",
    "    # conversion numpy array into rgb image to show\n",
    "    c = cv2.cvtColor(image_read, cv2.COLOR_BGR2RGB)\n",
    "    cv2.imshow('Color image', c)\n",
    "    # wait for 1 second\n",
    "    k = cv2.waitKey(1000)\n",
    "    # destroy the window\n",
    "    cv2.destroyAllWindows()\n",
    "    \n",
    "    "
   ]
  },
  {
   "cell_type": "code",
   "execution_count": null,
   "id": "c33d0434",
   "metadata": {},
   "outputs": [],
   "source": []
  }
 ],
 "metadata": {
  "kernelspec": {
   "display_name": "Python 3",
   "language": "python",
   "name": "python3"
  },
  "language_info": {
   "codemirror_mode": {
    "name": "ipython",
    "version": 3
   },
   "file_extension": ".py",
   "mimetype": "text/x-python",
   "name": "python",
   "nbconvert_exporter": "python",
   "pygments_lexer": "ipython3",
   "version": "3.7.11"
  }
 },
 "nbformat": 4,
 "nbformat_minor": 5
}
