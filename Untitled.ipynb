{
 "cells": [
  {
   "cell_type": "code",
   "execution_count": null,
   "id": "aa56a3a1",
   "metadata": {},
   "outputs": [],
   "source": [
    "import cv2\n",
    "import os\n",
    "import numpy as np\n",
    "from pprint import pprint\n",
    "\n",
    "# directory that holds eyes images to find and detect the purpil\n",
    "eyes_dir = \"/Home/Desktop/image\"\n",
    "\n",
    "\n",
    "        \n",
    "    def detect_pupil (self):\n",
    "        inv = cv2.bitwise_not(self._img)\n",
    "        thresh = cv2.cvtColor(inv, cv2.COLOR_BGR2GRAY)\n",
    "        kernel = np.ones((2,2),np.uint8)\n",
    "        erosion = cv2.erode(thresh,kernel,iterations = 1)\n",
    "        ret,thresh1 = cv2.threshold(erosion,220,255,cv2.THRESH_BINARY)\n",
    "        cnts, hierarchy = cv2.findContours(thresh1, cv2.RETR_EXTERNAL, cv2.CHAIN_APPROX_SIMPLE)\n",
    "        if len(cnts) != 0:\n",
    "            c = max(cnts, key = cv2.contourArea)\n",
    "            (x,y),radius = cv2.minEnclosingCircle(c)\n",
    "            center = (int(x),int(y))\n",
    "            radius = int(radius)\n",
    "            cv2.circle(self._img,center,radius,(255,0,0),2)\n",
    "\n",
    "    def start_detection(self):\n",
    "        if(self.load_image()):\n",
    "            self.detect_pupil()\n",
    "            cv2.imshow(\"IRIS DETECTION\", self._img)\n",
    "            cv2.waitKey(0)\n",
    "            self.save_image()\n",
    "        else:\n",
    "            print('Image file \"' + self._img_path + '\" could not be loaded.')\n",
    "\n",
    "\n",
    "images = []\n",
    "\n",
    "for file in os.listdir(eyes_dir):\n",
    "    if file.endswith(\".jpg\"):\n",
    "        path = os.getcwd()\n",
    "        images.append(os.path.join(path, eyes_dir, file))\n",
    "       \n",
    "for image in images:\n",
    "    id = pupil_detection(image)\n",
    "    id.start_detection()\n"
   ]
  },
  {
   "cell_type": "code",
   "execution_count": 1,
   "id": "d55f6b83",
   "metadata": {},
   "outputs": [],
   "source": [
    "import cv2\n",
    "import os\n",
    "import numpy as np\n",
    "from pprint import pprint"
   ]
  },
  {
   "cell_type": "code",
   "execution_count": 2,
   "id": "0a65b3ba",
   "metadata": {},
   "outputs": [],
   "source": [
    "\n",
    "img= cv2.imread('/home/roopesh/Desktop/MediaPipe /result_images/image109.png')\n",
    "inv = cv2.bitwise_not(img)\n",
    "thresh = cv2.cvtColor(inv, cv2.COLOR_BGR2GRAY)\n",
    "kernel = np.ones((2,2),np.uint8)\n",
    "erosion = cv2.erode(thresh,kernel,iterations = 1)\n",
    "ret,thresh1 = cv2.threshold(erosion,100,150,cv2.THRESH_BINARY)\n",
    "cnts, hierarchy = cv2.findContours(thresh1, cv2.RETR_EXTERNAL, cv2.CHAIN_APPROX_SIMPLE)\n",
    "if len(cnts) != 0:\n",
    "    c = max(cnts, key = cv2.contourArea)\n",
    "    (x,y),radius = cv2.minEnclosingCircle(c)\n",
    "    center = (int(x),int(y))\n",
    "    radius = int(radius)\n",
    "    cv2.circle(img,center,radius,(200,0,0),1)\n",
    "    cv2.imshow('test',img)\n",
    "    cv2.waitKey(100)\n"
   ]
  },
  {
   "cell_type": "code",
   "execution_count": null,
   "id": "0c5196ba",
   "metadata": {},
   "outputs": [],
   "source": []
  },
  {
   "cell_type": "code",
   "execution_count": null,
   "id": "991ad129",
   "metadata": {},
   "outputs": [],
   "source": []
  }
 ],
 "metadata": {
  "kernelspec": {
   "display_name": "Python 3",
   "language": "python",
   "name": "python3"
  },
  "language_info": {
   "codemirror_mode": {
    "name": "ipython",
    "version": 3
   },
   "file_extension": ".py",
   "mimetype": "text/x-python",
   "name": "python",
   "nbconvert_exporter": "python",
   "pygments_lexer": "ipython3",
   "version": "3.7.11"
  }
 },
 "nbformat": 4,
 "nbformat_minor": 5
}
