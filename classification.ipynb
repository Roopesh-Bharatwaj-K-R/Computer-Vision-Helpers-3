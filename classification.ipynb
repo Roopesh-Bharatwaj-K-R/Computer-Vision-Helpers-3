{
 "cells": [
  {
   "cell_type": "code",
   "execution_count": 1,
   "id": "34e822fc",
   "metadata": {},
   "outputs": [],
   "source": [
    "import pandas as pd\n",
    "import numpy as np\n",
    "import matplotlib.pyplot as plt\n",
    "import seaborn as sns"
   ]
  },
  {
   "cell_type": "code",
   "execution_count": 2,
   "id": "b813150d",
   "metadata": {},
   "outputs": [],
   "source": [
    "from sklearn.model_selection import train_test_split\n",
    "from sklearn.metrics import accuracy_score,confusion_matrix,classification_report,f1_score\n",
    "from sklearn.metrics import roc_auc_score,roc_curve,auc"
   ]
  },
  {
   "cell_type": "code",
   "execution_count": 3,
   "id": "d920e3b2",
   "metadata": {},
   "outputs": [],
   "source": [
    "data=pd.read_csv(\"/home/roopesh/Documents/Final_csv_prob/prob+label.csv\")"
   ]
  },
  {
   "cell_type": "code",
   "execution_count": 4,
   "id": "2cb9bbcd",
   "metadata": {},
   "outputs": [
    {
     "data": {
      "text/html": [
       "<div>\n",
       "<style scoped>\n",
       "    .dataframe tbody tr th:only-of-type {\n",
       "        vertical-align: middle;\n",
       "    }\n",
       "\n",
       "    .dataframe tbody tr th {\n",
       "        vertical-align: top;\n",
       "    }\n",
       "\n",
       "    .dataframe thead th {\n",
       "        text-align: right;\n",
       "    }\n",
       "</style>\n",
       "<table border=\"1\" class=\"dataframe\">\n",
       "  <thead>\n",
       "    <tr style=\"text-align: right;\">\n",
       "      <th></th>\n",
       "      <th>Idx_csv</th>\n",
       "      <th>Iris_Color</th>\n",
       "      <th>Prob_R_pix</th>\n",
       "      <th>Prob_G_pix</th>\n",
       "      <th>Prob_B_pix</th>\n",
       "      <th>Prob_3rdComp</th>\n",
       "    </tr>\n",
       "  </thead>\n",
       "  <tbody>\n",
       "    <tr>\n",
       "      <th>0</th>\n",
       "      <td>0</td>\n",
       "      <td>Black</td>\n",
       "      <td>4.234593e-02</td>\n",
       "      <td>1.456984e-04</td>\n",
       "      <td>0.957508</td>\n",
       "      <td>3.979530e-49</td>\n",
       "    </tr>\n",
       "    <tr>\n",
       "      <th>1</th>\n",
       "      <td>0</td>\n",
       "      <td>Black</td>\n",
       "      <td>1.200414e-01</td>\n",
       "      <td>3.081550e-04</td>\n",
       "      <td>0.879650</td>\n",
       "      <td>5.013804e-80</td>\n",
       "    </tr>\n",
       "    <tr>\n",
       "      <th>2</th>\n",
       "      <td>0</td>\n",
       "      <td>Black</td>\n",
       "      <td>2.324060e-02</td>\n",
       "      <td>3.633050e-06</td>\n",
       "      <td>0.976756</td>\n",
       "      <td>3.866560e-48</td>\n",
       "    </tr>\n",
       "    <tr>\n",
       "      <th>3</th>\n",
       "      <td>0</td>\n",
       "      <td>Black</td>\n",
       "      <td>2.203044e-02</td>\n",
       "      <td>3.531491e-06</td>\n",
       "      <td>0.977966</td>\n",
       "      <td>3.936263e-36</td>\n",
       "    </tr>\n",
       "    <tr>\n",
       "      <th>4</th>\n",
       "      <td>0</td>\n",
       "      <td>Black</td>\n",
       "      <td>2.054063e-02</td>\n",
       "      <td>6.655337e-06</td>\n",
       "      <td>0.979453</td>\n",
       "      <td>9.467966e-48</td>\n",
       "    </tr>\n",
       "    <tr>\n",
       "      <th>...</th>\n",
       "      <td>...</td>\n",
       "      <td>...</td>\n",
       "      <td>...</td>\n",
       "      <td>...</td>\n",
       "      <td>...</td>\n",
       "      <td>...</td>\n",
       "    </tr>\n",
       "    <tr>\n",
       "      <th>17315</th>\n",
       "      <td>123</td>\n",
       "      <td>Black</td>\n",
       "      <td>8.280721e-01</td>\n",
       "      <td>5.786239e-65</td>\n",
       "      <td>0.171928</td>\n",
       "      <td>2.170424e-189</td>\n",
       "    </tr>\n",
       "    <tr>\n",
       "      <th>17316</th>\n",
       "      <td>123</td>\n",
       "      <td>Black</td>\n",
       "      <td>2.986820e-01</td>\n",
       "      <td>2.995201e-58</td>\n",
       "      <td>0.701318</td>\n",
       "      <td>1.150260e-172</td>\n",
       "    </tr>\n",
       "    <tr>\n",
       "      <th>17317</th>\n",
       "      <td>123</td>\n",
       "      <td>Black</td>\n",
       "      <td>3.429421e-12</td>\n",
       "      <td>1.286990e-100</td>\n",
       "      <td>1.000000</td>\n",
       "      <td>6.848881e-147</td>\n",
       "    </tr>\n",
       "    <tr>\n",
       "      <th>17318</th>\n",
       "      <td>123</td>\n",
       "      <td>Black</td>\n",
       "      <td>4.856492e-07</td>\n",
       "      <td>8.291815e-97</td>\n",
       "      <td>1.000000</td>\n",
       "      <td>4.375624e-96</td>\n",
       "    </tr>\n",
       "    <tr>\n",
       "      <th>17319</th>\n",
       "      <td>123</td>\n",
       "      <td>Black</td>\n",
       "      <td>7.611625e-31</td>\n",
       "      <td>5.873521e-216</td>\n",
       "      <td>0.001587</td>\n",
       "      <td>9.984128e-01</td>\n",
       "    </tr>\n",
       "  </tbody>\n",
       "</table>\n",
       "<p>17320 rows × 6 columns</p>\n",
       "</div>"
      ],
      "text/plain": [
       "       Idx_csv Iris_Color    Prob_R_pix     Prob_G_pix  Prob_B_pix  \\\n",
       "0            0      Black  4.234593e-02   1.456984e-04    0.957508   \n",
       "1            0      Black  1.200414e-01   3.081550e-04    0.879650   \n",
       "2            0      Black  2.324060e-02   3.633050e-06    0.976756   \n",
       "3            0      Black  2.203044e-02   3.531491e-06    0.977966   \n",
       "4            0      Black  2.054063e-02   6.655337e-06    0.979453   \n",
       "...        ...        ...           ...            ...         ...   \n",
       "17315      123      Black  8.280721e-01   5.786239e-65    0.171928   \n",
       "17316      123      Black  2.986820e-01   2.995201e-58    0.701318   \n",
       "17317      123      Black  3.429421e-12  1.286990e-100    1.000000   \n",
       "17318      123      Black  4.856492e-07   8.291815e-97    1.000000   \n",
       "17319      123      Black  7.611625e-31  5.873521e-216    0.001587   \n",
       "\n",
       "        Prob_3rdComp  \n",
       "0       3.979530e-49  \n",
       "1       5.013804e-80  \n",
       "2       3.866560e-48  \n",
       "3       3.936263e-36  \n",
       "4       9.467966e-48  \n",
       "...              ...  \n",
       "17315  2.170424e-189  \n",
       "17316  1.150260e-172  \n",
       "17317  6.848881e-147  \n",
       "17318   4.375624e-96  \n",
       "17319   9.984128e-01  \n",
       "\n",
       "[17320 rows x 6 columns]"
      ]
     },
     "execution_count": 4,
     "metadata": {},
     "output_type": "execute_result"
    }
   ],
   "source": [
    "data"
   ]
  },
  {
   "cell_type": "code",
   "execution_count": 5,
   "id": "9fa8729a",
   "metadata": {},
   "outputs": [],
   "source": [
    "# data=data.replace([np.inf,-np.inf],np.nan,inplace=True)"
   ]
  },
  {
   "cell_type": "code",
   "execution_count": 6,
   "id": "4b32c3a7",
   "metadata": {},
   "outputs": [],
   "source": [
    "data1=data.dropna(inplace=True)"
   ]
  },
  {
   "cell_type": "code",
   "execution_count": 7,
   "id": "2c8243a1",
   "metadata": {},
   "outputs": [
    {
     "data": {
      "text/html": [
       "<div>\n",
       "<style scoped>\n",
       "    .dataframe tbody tr th:only-of-type {\n",
       "        vertical-align: middle;\n",
       "    }\n",
       "\n",
       "    .dataframe tbody tr th {\n",
       "        vertical-align: top;\n",
       "    }\n",
       "\n",
       "    .dataframe thead th {\n",
       "        text-align: right;\n",
       "    }\n",
       "</style>\n",
       "<table border=\"1\" class=\"dataframe\">\n",
       "  <thead>\n",
       "    <tr style=\"text-align: right;\">\n",
       "      <th></th>\n",
       "      <th>Idx_csv</th>\n",
       "      <th>Iris_Color</th>\n",
       "      <th>Prob_R_pix</th>\n",
       "      <th>Prob_G_pix</th>\n",
       "      <th>Prob_B_pix</th>\n",
       "      <th>Prob_3rdComp</th>\n",
       "    </tr>\n",
       "  </thead>\n",
       "  <tbody>\n",
       "    <tr>\n",
       "      <th>0</th>\n",
       "      <td>False</td>\n",
       "      <td>False</td>\n",
       "      <td>False</td>\n",
       "      <td>False</td>\n",
       "      <td>False</td>\n",
       "      <td>False</td>\n",
       "    </tr>\n",
       "    <tr>\n",
       "      <th>1</th>\n",
       "      <td>False</td>\n",
       "      <td>False</td>\n",
       "      <td>False</td>\n",
       "      <td>False</td>\n",
       "      <td>False</td>\n",
       "      <td>False</td>\n",
       "    </tr>\n",
       "    <tr>\n",
       "      <th>2</th>\n",
       "      <td>False</td>\n",
       "      <td>False</td>\n",
       "      <td>False</td>\n",
       "      <td>False</td>\n",
       "      <td>False</td>\n",
       "      <td>False</td>\n",
       "    </tr>\n",
       "    <tr>\n",
       "      <th>3</th>\n",
       "      <td>False</td>\n",
       "      <td>False</td>\n",
       "      <td>False</td>\n",
       "      <td>False</td>\n",
       "      <td>False</td>\n",
       "      <td>False</td>\n",
       "    </tr>\n",
       "    <tr>\n",
       "      <th>4</th>\n",
       "      <td>False</td>\n",
       "      <td>False</td>\n",
       "      <td>False</td>\n",
       "      <td>False</td>\n",
       "      <td>False</td>\n",
       "      <td>False</td>\n",
       "    </tr>\n",
       "    <tr>\n",
       "      <th>...</th>\n",
       "      <td>...</td>\n",
       "      <td>...</td>\n",
       "      <td>...</td>\n",
       "      <td>...</td>\n",
       "      <td>...</td>\n",
       "      <td>...</td>\n",
       "    </tr>\n",
       "    <tr>\n",
       "      <th>17315</th>\n",
       "      <td>False</td>\n",
       "      <td>False</td>\n",
       "      <td>False</td>\n",
       "      <td>False</td>\n",
       "      <td>False</td>\n",
       "      <td>False</td>\n",
       "    </tr>\n",
       "    <tr>\n",
       "      <th>17316</th>\n",
       "      <td>False</td>\n",
       "      <td>False</td>\n",
       "      <td>False</td>\n",
       "      <td>False</td>\n",
       "      <td>False</td>\n",
       "      <td>False</td>\n",
       "    </tr>\n",
       "    <tr>\n",
       "      <th>17317</th>\n",
       "      <td>False</td>\n",
       "      <td>False</td>\n",
       "      <td>False</td>\n",
       "      <td>False</td>\n",
       "      <td>False</td>\n",
       "      <td>False</td>\n",
       "    </tr>\n",
       "    <tr>\n",
       "      <th>17318</th>\n",
       "      <td>False</td>\n",
       "      <td>False</td>\n",
       "      <td>False</td>\n",
       "      <td>False</td>\n",
       "      <td>False</td>\n",
       "      <td>False</td>\n",
       "    </tr>\n",
       "    <tr>\n",
       "      <th>17319</th>\n",
       "      <td>False</td>\n",
       "      <td>False</td>\n",
       "      <td>False</td>\n",
       "      <td>False</td>\n",
       "      <td>False</td>\n",
       "      <td>False</td>\n",
       "    </tr>\n",
       "  </tbody>\n",
       "</table>\n",
       "<p>17320 rows × 6 columns</p>\n",
       "</div>"
      ],
      "text/plain": [
       "       Idx_csv  Iris_Color  Prob_R_pix  Prob_G_pix  Prob_B_pix  Prob_3rdComp\n",
       "0        False       False       False       False       False         False\n",
       "1        False       False       False       False       False         False\n",
       "2        False       False       False       False       False         False\n",
       "3        False       False       False       False       False         False\n",
       "4        False       False       False       False       False         False\n",
       "...        ...         ...         ...         ...         ...           ...\n",
       "17315    False       False       False       False       False         False\n",
       "17316    False       False       False       False       False         False\n",
       "17317    False       False       False       False       False         False\n",
       "17318    False       False       False       False       False         False\n",
       "17319    False       False       False       False       False         False\n",
       "\n",
       "[17320 rows x 6 columns]"
      ]
     },
     "execution_count": 7,
     "metadata": {},
     "output_type": "execute_result"
    }
   ],
   "source": [
    "data.isna()"
   ]
  },
  {
   "cell_type": "code",
   "execution_count": 8,
   "id": "b0bf4439",
   "metadata": {},
   "outputs": [
    {
     "data": {
      "text/plain": [
       "Idx_csv         0\n",
       "Iris_Color      0\n",
       "Prob_R_pix      0\n",
       "Prob_G_pix      0\n",
       "Prob_B_pix      0\n",
       "Prob_3rdComp    0\n",
       "dtype: int64"
      ]
     },
     "execution_count": 8,
     "metadata": {},
     "output_type": "execute_result"
    }
   ],
   "source": [
    "data.isna().sum()"
   ]
  },
  {
   "cell_type": "code",
   "execution_count": 9,
   "id": "f3541085",
   "metadata": {},
   "outputs": [],
   "source": [
    "# data.set_index('Idx_csv')"
   ]
  },
  {
   "cell_type": "code",
   "execution_count": 10,
   "id": "b25af0ab",
   "metadata": {},
   "outputs": [],
   "source": [
    "group=data.groupby('Idx_csv')"
   ]
  },
  {
   "cell_type": "code",
   "execution_count": 11,
   "id": "c5aa0356",
   "metadata": {},
   "outputs": [
    {
     "data": {
      "text/html": [
       "<div>\n",
       "<style scoped>\n",
       "    .dataframe tbody tr th:only-of-type {\n",
       "        vertical-align: middle;\n",
       "    }\n",
       "\n",
       "    .dataframe tbody tr th {\n",
       "        vertical-align: top;\n",
       "    }\n",
       "\n",
       "    .dataframe thead th {\n",
       "        text-align: right;\n",
       "    }\n",
       "</style>\n",
       "<table border=\"1\" class=\"dataframe\">\n",
       "  <thead>\n",
       "    <tr style=\"text-align: right;\">\n",
       "      <th></th>\n",
       "      <th>Iris_Color</th>\n",
       "      <th>Prob_R_pix</th>\n",
       "      <th>Prob_G_pix</th>\n",
       "      <th>Prob_B_pix</th>\n",
       "      <th>Prob_3rdComp</th>\n",
       "    </tr>\n",
       "    <tr>\n",
       "      <th>Idx_csv</th>\n",
       "      <th></th>\n",
       "      <th></th>\n",
       "      <th></th>\n",
       "      <th></th>\n",
       "      <th></th>\n",
       "    </tr>\n",
       "  </thead>\n",
       "  <tbody>\n",
       "    <tr>\n",
       "      <th>0</th>\n",
       "      <td>Black</td>\n",
       "      <td>4.234593e-02</td>\n",
       "      <td>1.456984e-04</td>\n",
       "      <td>9.575084e-01</td>\n",
       "      <td>3.979530e-49</td>\n",
       "    </tr>\n",
       "    <tr>\n",
       "      <th>1</th>\n",
       "      <td>Dark_Brown</td>\n",
       "      <td>6.156053e-01</td>\n",
       "      <td>3.464212e-01</td>\n",
       "      <td>3.797324e-02</td>\n",
       "      <td>2.653332e-07</td>\n",
       "    </tr>\n",
       "    <tr>\n",
       "      <th>2</th>\n",
       "      <td>Black</td>\n",
       "      <td>1.251486e-26</td>\n",
       "      <td>9.808826e-01</td>\n",
       "      <td>1.911741e-02</td>\n",
       "      <td>4.979418e-48</td>\n",
       "    </tr>\n",
       "    <tr>\n",
       "      <th>3</th>\n",
       "      <td>Dark_Brown</td>\n",
       "      <td>6.785541e-11</td>\n",
       "      <td>1.473968e-01</td>\n",
       "      <td>6.780319e-02</td>\n",
       "      <td>7.848000e-01</td>\n",
       "    </tr>\n",
       "    <tr>\n",
       "      <th>4</th>\n",
       "      <td>Dark_Brown</td>\n",
       "      <td>6.481893e-01</td>\n",
       "      <td>1.488407e-01</td>\n",
       "      <td>1.958131e-01</td>\n",
       "      <td>7.156914e-03</td>\n",
       "    </tr>\n",
       "    <tr>\n",
       "      <th>...</th>\n",
       "      <td>...</td>\n",
       "      <td>...</td>\n",
       "      <td>...</td>\n",
       "      <td>...</td>\n",
       "      <td>...</td>\n",
       "    </tr>\n",
       "    <tr>\n",
       "      <th>119</th>\n",
       "      <td>Dark_Brown</td>\n",
       "      <td>1.585398e-01</td>\n",
       "      <td>1.024030e-02</td>\n",
       "      <td>8.312199e-01</td>\n",
       "      <td>6.009563e-13</td>\n",
       "    </tr>\n",
       "    <tr>\n",
       "      <th>120</th>\n",
       "      <td>Black</td>\n",
       "      <td>4.725030e-10</td>\n",
       "      <td>9.999822e-01</td>\n",
       "      <td>1.779010e-05</td>\n",
       "      <td>1.212941e-42</td>\n",
       "    </tr>\n",
       "    <tr>\n",
       "      <th>121</th>\n",
       "      <td>Black</td>\n",
       "      <td>9.736464e-01</td>\n",
       "      <td>5.214426e-18</td>\n",
       "      <td>2.635356e-02</td>\n",
       "      <td>4.878453e-94</td>\n",
       "    </tr>\n",
       "    <tr>\n",
       "      <th>122</th>\n",
       "      <td>Black</td>\n",
       "      <td>9.829744e-01</td>\n",
       "      <td>2.619537e-22</td>\n",
       "      <td>5.105079e-09</td>\n",
       "      <td>1.702564e-02</td>\n",
       "    </tr>\n",
       "    <tr>\n",
       "      <th>123</th>\n",
       "      <td>Black</td>\n",
       "      <td>9.816354e-01</td>\n",
       "      <td>8.363519e-27</td>\n",
       "      <td>1.836458e-02</td>\n",
       "      <td>7.101069e-154</td>\n",
       "    </tr>\n",
       "  </tbody>\n",
       "</table>\n",
       "<p>124 rows × 5 columns</p>\n",
       "</div>"
      ],
      "text/plain": [
       "         Iris_Color    Prob_R_pix    Prob_G_pix    Prob_B_pix   Prob_3rdComp\n",
       "Idx_csv                                                                     \n",
       "0             Black  4.234593e-02  1.456984e-04  9.575084e-01   3.979530e-49\n",
       "1        Dark_Brown  6.156053e-01  3.464212e-01  3.797324e-02   2.653332e-07\n",
       "2             Black  1.251486e-26  9.808826e-01  1.911741e-02   4.979418e-48\n",
       "3        Dark_Brown  6.785541e-11  1.473968e-01  6.780319e-02   7.848000e-01\n",
       "4        Dark_Brown  6.481893e-01  1.488407e-01  1.958131e-01   7.156914e-03\n",
       "...             ...           ...           ...           ...            ...\n",
       "119      Dark_Brown  1.585398e-01  1.024030e-02  8.312199e-01   6.009563e-13\n",
       "120           Black  4.725030e-10  9.999822e-01  1.779010e-05   1.212941e-42\n",
       "121           Black  9.736464e-01  5.214426e-18  2.635356e-02   4.878453e-94\n",
       "122           Black  9.829744e-01  2.619537e-22  5.105079e-09   1.702564e-02\n",
       "123           Black  9.816354e-01  8.363519e-27  1.836458e-02  7.101069e-154\n",
       "\n",
       "[124 rows x 5 columns]"
      ]
     },
     "execution_count": 11,
     "metadata": {},
     "output_type": "execute_result"
    }
   ],
   "source": [
    "d= group.first()\n",
    "d"
   ]
  },
  {
   "cell_type": "code",
   "execution_count": 12,
   "id": "54835e3f",
   "metadata": {},
   "outputs": [],
   "source": [
    "group2=data.groupby(['Idx_csv','Iris_Color'])"
   ]
  },
  {
   "cell_type": "code",
   "execution_count": 13,
   "id": "ca2e9157",
   "metadata": {},
   "outputs": [
    {
     "data": {
      "text/html": [
       "<div>\n",
       "<style scoped>\n",
       "    .dataframe tbody tr th:only-of-type {\n",
       "        vertical-align: middle;\n",
       "    }\n",
       "\n",
       "    .dataframe tbody tr th {\n",
       "        vertical-align: top;\n",
       "    }\n",
       "\n",
       "    .dataframe thead th {\n",
       "        text-align: right;\n",
       "    }\n",
       "</style>\n",
       "<table border=\"1\" class=\"dataframe\">\n",
       "  <thead>\n",
       "    <tr style=\"text-align: right;\">\n",
       "      <th></th>\n",
       "      <th></th>\n",
       "      <th>Prob_R_pix</th>\n",
       "      <th>Prob_G_pix</th>\n",
       "      <th>Prob_B_pix</th>\n",
       "      <th>Prob_3rdComp</th>\n",
       "    </tr>\n",
       "    <tr>\n",
       "      <th>Idx_csv</th>\n",
       "      <th>Iris_Color</th>\n",
       "      <th></th>\n",
       "      <th></th>\n",
       "      <th></th>\n",
       "      <th></th>\n",
       "    </tr>\n",
       "  </thead>\n",
       "  <tbody>\n",
       "    <tr>\n",
       "      <th>0</th>\n",
       "      <th>Black</th>\n",
       "      <td>4.234593e-02</td>\n",
       "      <td>1.456984e-04</td>\n",
       "      <td>9.575084e-01</td>\n",
       "      <td>3.979530e-49</td>\n",
       "    </tr>\n",
       "    <tr>\n",
       "      <th>1</th>\n",
       "      <th>Dark_Brown</th>\n",
       "      <td>6.156053e-01</td>\n",
       "      <td>3.464212e-01</td>\n",
       "      <td>3.797324e-02</td>\n",
       "      <td>2.653332e-07</td>\n",
       "    </tr>\n",
       "    <tr>\n",
       "      <th>2</th>\n",
       "      <th>Black</th>\n",
       "      <td>1.251486e-26</td>\n",
       "      <td>9.808826e-01</td>\n",
       "      <td>1.911741e-02</td>\n",
       "      <td>4.979418e-48</td>\n",
       "    </tr>\n",
       "    <tr>\n",
       "      <th>3</th>\n",
       "      <th>Dark_Brown</th>\n",
       "      <td>6.785541e-11</td>\n",
       "      <td>1.473968e-01</td>\n",
       "      <td>6.780319e-02</td>\n",
       "      <td>7.848000e-01</td>\n",
       "    </tr>\n",
       "    <tr>\n",
       "      <th>4</th>\n",
       "      <th>Dark_Brown</th>\n",
       "      <td>6.481893e-01</td>\n",
       "      <td>1.488407e-01</td>\n",
       "      <td>1.958131e-01</td>\n",
       "      <td>7.156914e-03</td>\n",
       "    </tr>\n",
       "    <tr>\n",
       "      <th>...</th>\n",
       "      <th>...</th>\n",
       "      <td>...</td>\n",
       "      <td>...</td>\n",
       "      <td>...</td>\n",
       "      <td>...</td>\n",
       "    </tr>\n",
       "    <tr>\n",
       "      <th>119</th>\n",
       "      <th>Dark_Brown</th>\n",
       "      <td>1.585398e-01</td>\n",
       "      <td>1.024030e-02</td>\n",
       "      <td>8.312199e-01</td>\n",
       "      <td>6.009563e-13</td>\n",
       "    </tr>\n",
       "    <tr>\n",
       "      <th>120</th>\n",
       "      <th>Black</th>\n",
       "      <td>4.725030e-10</td>\n",
       "      <td>9.999822e-01</td>\n",
       "      <td>1.779010e-05</td>\n",
       "      <td>1.212941e-42</td>\n",
       "    </tr>\n",
       "    <tr>\n",
       "      <th>121</th>\n",
       "      <th>Black</th>\n",
       "      <td>9.736464e-01</td>\n",
       "      <td>5.214426e-18</td>\n",
       "      <td>2.635356e-02</td>\n",
       "      <td>4.878453e-94</td>\n",
       "    </tr>\n",
       "    <tr>\n",
       "      <th>122</th>\n",
       "      <th>Black</th>\n",
       "      <td>9.829744e-01</td>\n",
       "      <td>2.619537e-22</td>\n",
       "      <td>5.105079e-09</td>\n",
       "      <td>1.702564e-02</td>\n",
       "    </tr>\n",
       "    <tr>\n",
       "      <th>123</th>\n",
       "      <th>Black</th>\n",
       "      <td>9.816354e-01</td>\n",
       "      <td>8.363519e-27</td>\n",
       "      <td>1.836458e-02</td>\n",
       "      <td>7.101069e-154</td>\n",
       "    </tr>\n",
       "  </tbody>\n",
       "</table>\n",
       "<p>124 rows × 4 columns</p>\n",
       "</div>"
      ],
      "text/plain": [
       "                      Prob_R_pix    Prob_G_pix    Prob_B_pix   Prob_3rdComp\n",
       "Idx_csv Iris_Color                                                         \n",
       "0       Black       4.234593e-02  1.456984e-04  9.575084e-01   3.979530e-49\n",
       "1       Dark_Brown  6.156053e-01  3.464212e-01  3.797324e-02   2.653332e-07\n",
       "2       Black       1.251486e-26  9.808826e-01  1.911741e-02   4.979418e-48\n",
       "3       Dark_Brown  6.785541e-11  1.473968e-01  6.780319e-02   7.848000e-01\n",
       "4       Dark_Brown  6.481893e-01  1.488407e-01  1.958131e-01   7.156914e-03\n",
       "...                          ...           ...           ...            ...\n",
       "119     Dark_Brown  1.585398e-01  1.024030e-02  8.312199e-01   6.009563e-13\n",
       "120     Black       4.725030e-10  9.999822e-01  1.779010e-05   1.212941e-42\n",
       "121     Black       9.736464e-01  5.214426e-18  2.635356e-02   4.878453e-94\n",
       "122     Black       9.829744e-01  2.619537e-22  5.105079e-09   1.702564e-02\n",
       "123     Black       9.816354e-01  8.363519e-27  1.836458e-02  7.101069e-154\n",
       "\n",
       "[124 rows x 4 columns]"
      ]
     },
     "execution_count": 13,
     "metadata": {},
     "output_type": "execute_result"
    }
   ],
   "source": [
    "group2.first()"
   ]
  },
  {
   "cell_type": "code",
   "execution_count": 14,
   "id": "e4ea9902",
   "metadata": {},
   "outputs": [
    {
     "name": "stdout",
     "output_type": "stream",
     "text": [
      "['Black' 'Dark_Brown' 'Light_Brown' 'Medium_Brown' 'Grey']\n"
     ]
    },
    {
     "data": {
      "text/plain": [
       "5"
      ]
     },
     "execution_count": 14,
     "metadata": {},
     "output_type": "execute_result"
    }
   ],
   "source": [
    "print(d['Iris_Color'].unique())\n",
    "d['Iris_Color'].nunique()"
   ]
  },
  {
   "cell_type": "code",
   "execution_count": 15,
   "id": "32e0a41e",
   "metadata": {},
   "outputs": [],
   "source": [
    "\n",
    "x= data[['Prob_R_pix','Prob_G_pix','Prob_B_pix','Prob_3rdComp']]\n",
    "# #x= data[['GMM_cluster']]"
   ]
  },
  {
   "cell_type": "code",
   "execution_count": 16,
   "id": "fcbaba1a",
   "metadata": {},
   "outputs": [],
   "source": [
    "# x= d[['GMM_cluster']]"
   ]
  },
  {
   "cell_type": "code",
   "execution_count": 17,
   "id": "5674a4f8",
   "metadata": {},
   "outputs": [],
   "source": [
    "# x.set_index('Idx_csv')"
   ]
  },
  {
   "cell_type": "code",
   "execution_count": 18,
   "id": "e48c6616",
   "metadata": {},
   "outputs": [],
   "source": [
    "from sklearn import preprocessing\n",
    "from sklearn.preprocessing import LabelEncoder\n",
    "le = LabelEncoder()\n",
    "# data['Iris_Color']= le.fit_transform(data['Iris_Color'])"
   ]
  },
  {
   "cell_type": "code",
   "execution_count": 19,
   "id": "a2ef2ca8",
   "metadata": {},
   "outputs": [],
   "source": [
    "# data['Iris_Color'].unique()"
   ]
  },
  {
   "cell_type": "code",
   "execution_count": 20,
   "id": "ca7727d7",
   "metadata": {},
   "outputs": [],
   "source": [
    "y=data[['Iris_Color']]"
   ]
  },
  {
   "cell_type": "code",
   "execution_count": 21,
   "id": "361b61ef",
   "metadata": {},
   "outputs": [],
   "source": [
    "# y.set_index('Idx_csv')"
   ]
  },
  {
   "cell_type": "code",
   "execution_count": 22,
   "id": "e5701156",
   "metadata": {},
   "outputs": [],
   "source": [
    "# y=d[['Iris_Color']]"
   ]
  },
  {
   "cell_type": "code",
   "execution_count": 23,
   "id": "26f3a45f",
   "metadata": {},
   "outputs": [
    {
     "name": "stdout",
     "output_type": "stream",
     "text": [
      "<class 'pandas.core.frame.DataFrame'>\n",
      "Int64Index: 17320 entries, 0 to 17319\n",
      "Data columns (total 1 columns):\n",
      " #   Column      Non-Null Count  Dtype \n",
      "---  ------      --------------  ----- \n",
      " 0   Iris_Color  17320 non-null  object\n",
      "dtypes: object(1)\n",
      "memory usage: 270.6+ KB\n"
     ]
    }
   ],
   "source": [
    "y.info()"
   ]
  },
  {
   "cell_type": "code",
   "execution_count": 24,
   "id": "508efed7",
   "metadata": {},
   "outputs": [],
   "source": [
    "x=x.astype(np.float32)\n",
    "# y=y.astype(np.int32)"
   ]
  },
  {
   "cell_type": "code",
   "execution_count": 25,
   "id": "ed587d0b",
   "metadata": {},
   "outputs": [
    {
     "name": "stdout",
     "output_type": "stream",
     "text": [
      "<class 'pandas.core.frame.DataFrame'>\n",
      "Int64Index: 17320 entries, 0 to 17319\n",
      "Data columns (total 4 columns):\n",
      " #   Column        Non-Null Count  Dtype  \n",
      "---  ------        --------------  -----  \n",
      " 0   Prob_R_pix    17320 non-null  float32\n",
      " 1   Prob_G_pix    17320 non-null  float32\n",
      " 2   Prob_B_pix    17320 non-null  float32\n",
      " 3   Prob_3rdComp  17320 non-null  float32\n",
      "dtypes: float32(4)\n",
      "memory usage: 405.9 KB\n"
     ]
    }
   ],
   "source": [
    "x.info()"
   ]
  },
  {
   "cell_type": "code",
   "execution_count": 26,
   "id": "e6f0ca9a",
   "metadata": {},
   "outputs": [
    {
     "name": "stdout",
     "output_type": "stream",
     "text": [
      "<class 'pandas.core.frame.DataFrame'>\n",
      "Int64Index: 17320 entries, 0 to 17319\n",
      "Data columns (total 1 columns):\n",
      " #   Column      Non-Null Count  Dtype \n",
      "---  ------      --------------  ----- \n",
      " 0   Iris_Color  17320 non-null  object\n",
      "dtypes: object(1)\n",
      "memory usage: 270.6+ KB\n"
     ]
    }
   ],
   "source": [
    "y.info()"
   ]
  },
  {
   "cell_type": "code",
   "execution_count": 27,
   "id": "42fd5c5d",
   "metadata": {},
   "outputs": [
    {
     "name": "stdout",
     "output_type": "stream",
     "text": [
      "X1-Train Shape:  (13856, 4) \n",
      "Y1-Train Shape(Dependent): (13856, 1)\n",
      "X1-Test Shape:  (3464, 4) \n",
      "Y1-Test Shape(Dependent): (3464, 1)\n"
     ]
    }
   ],
   "source": [
    "x1_train, x1_test, y1_train, y1_test = train_test_split(x,y,test_size=0.20, shuffle= True)\n",
    "print(\"X1-Train Shape: \", x1_train.shape,'\\n' \"Y1-Train Shape(Dependent):\", y1_train.shape)\n",
    "print(\"X1-Test Shape: \", x1_test.shape,'\\n' \"Y1-Test Shape(Dependent):\", y1_test.shape)"
   ]
  },
  {
   "cell_type": "code",
   "execution_count": 28,
   "id": "56cc44ea",
   "metadata": {},
   "outputs": [],
   "source": [
    "# list(x1_train.columns)"
   ]
  },
  {
   "cell_type": "code",
   "execution_count": 29,
   "id": "a88570a9",
   "metadata": {},
   "outputs": [],
   "source": [
    "# Normalizing the dataset \n",
    "from sklearn.preprocessing import StandardScaler \n",
    "scaler = StandardScaler() \n",
    "scaler.fit(x1_train) \n",
    "scaler.fit(x1_test)\n",
    "x1_train = scaler.transform(x1_train) \n",
    "x1_test = scaler.transform(x1_test)"
   ]
  },
  {
   "cell_type": "code",
   "execution_count": 30,
   "id": "9e1e9d84",
   "metadata": {},
   "outputs": [
    {
     "data": {
      "text/plain": [
       "array([[-0.6716308 , -0.68979776,  1.9815315 , -0.5232391 ],\n",
       "       [-0.6720393 , -0.68979776, -0.1474823 ,  1.7307074 ],\n",
       "       [-0.6720393 , -0.6897977 , -0.5770151 ,  2.1853507 ],\n",
       "       ...,\n",
       "       [-0.6720393 ,  1.6429355 , -0.57726824, -0.52316386],\n",
       "       [-0.6720393 , -0.68979776, -0.5662637 ,  2.1739707 ],\n",
       "       [ 1.3385432 , -0.35014138, -0.57726824, -0.5232391 ]],\n",
       "      dtype=float32)"
      ]
     },
     "execution_count": 30,
     "metadata": {},
     "output_type": "execute_result"
    }
   ],
   "source": [
    "x1_test"
   ]
  },
  {
   "cell_type": "code",
   "execution_count": 31,
   "id": "ae9d49df",
   "metadata": {},
   "outputs": [
    {
     "data": {
      "text/plain": [
       "array([[ 1.6377611 , -0.68979776, -0.53005713, -0.5232391 ],\n",
       "       [-0.641936  ,  1.6129845 , -0.57726824, -0.5230374 ],\n",
       "       [ 1.4208289 , -0.58965534, -0.40399483, -0.5232391 ],\n",
       "       ...,\n",
       "       [-0.6720393 , -0.6350604 ,  0.05747202,  1.4502102 ],\n",
       "       [-0.6720393 ,  1.5907197 , -0.5199127 , -0.5232391 ],\n",
       "       [-0.67167306, -0.6247028 , -0.57726824,  2.1096087 ]],\n",
       "      dtype=float32)"
      ]
     },
     "execution_count": 31,
     "metadata": {},
     "output_type": "execute_result"
    }
   ],
   "source": [
    "x1_train"
   ]
  },
  {
   "cell_type": "code",
   "execution_count": 32,
   "id": "fc3e63dc",
   "metadata": {},
   "outputs": [
    {
     "data": {
      "text/html": [
       "<div>\n",
       "<style scoped>\n",
       "    .dataframe tbody tr th:only-of-type {\n",
       "        vertical-align: middle;\n",
       "    }\n",
       "\n",
       "    .dataframe tbody tr th {\n",
       "        vertical-align: top;\n",
       "    }\n",
       "\n",
       "    .dataframe thead th {\n",
       "        text-align: right;\n",
       "    }\n",
       "</style>\n",
       "<table border=\"1\" class=\"dataframe\">\n",
       "  <thead>\n",
       "    <tr style=\"text-align: right;\">\n",
       "      <th></th>\n",
       "      <th>Iris_Color</th>\n",
       "    </tr>\n",
       "  </thead>\n",
       "  <tbody>\n",
       "    <tr>\n",
       "      <th>6836</th>\n",
       "      <td>Dark_Brown</td>\n",
       "    </tr>\n",
       "    <tr>\n",
       "      <th>8273</th>\n",
       "      <td>Medium_Brown</td>\n",
       "    </tr>\n",
       "    <tr>\n",
       "      <th>3534</th>\n",
       "      <td>Black</td>\n",
       "    </tr>\n",
       "    <tr>\n",
       "      <th>1359</th>\n",
       "      <td>Grey</td>\n",
       "    </tr>\n",
       "    <tr>\n",
       "      <th>12284</th>\n",
       "      <td>Dark_Brown</td>\n",
       "    </tr>\n",
       "    <tr>\n",
       "      <th>...</th>\n",
       "      <td>...</td>\n",
       "    </tr>\n",
       "    <tr>\n",
       "      <th>4177</th>\n",
       "      <td>Medium_Brown</td>\n",
       "    </tr>\n",
       "    <tr>\n",
       "      <th>3895</th>\n",
       "      <td>Light_Brown</td>\n",
       "    </tr>\n",
       "    <tr>\n",
       "      <th>11805</th>\n",
       "      <td>Grey</td>\n",
       "    </tr>\n",
       "    <tr>\n",
       "      <th>346</th>\n",
       "      <td>Black</td>\n",
       "    </tr>\n",
       "    <tr>\n",
       "      <th>11863</th>\n",
       "      <td>Dark_Brown</td>\n",
       "    </tr>\n",
       "  </tbody>\n",
       "</table>\n",
       "<p>13856 rows × 1 columns</p>\n",
       "</div>"
      ],
      "text/plain": [
       "         Iris_Color\n",
       "6836     Dark_Brown\n",
       "8273   Medium_Brown\n",
       "3534          Black\n",
       "1359           Grey\n",
       "12284    Dark_Brown\n",
       "...             ...\n",
       "4177   Medium_Brown\n",
       "3895    Light_Brown\n",
       "11805          Grey\n",
       "346           Black\n",
       "11863    Dark_Brown\n",
       "\n",
       "[13856 rows x 1 columns]"
      ]
     },
     "execution_count": 32,
     "metadata": {},
     "output_type": "execute_result"
    }
   ],
   "source": [
    "y1_train"
   ]
  },
  {
   "cell_type": "code",
   "execution_count": 33,
   "id": "f102e69c",
   "metadata": {},
   "outputs": [],
   "source": [
    "from sklearn.ensemble import RandomForestClassifier\n",
    "from sklearn.linear_model import LogisticRegression"
   ]
  },
  {
   "cell_type": "code",
   "execution_count": 34,
   "id": "975dc868",
   "metadata": {},
   "outputs": [
    {
     "name": "stderr",
     "output_type": "stream",
     "text": [
      "/home/roopesh/anaconda3/lib/python3.7/site-packages/sklearn/utils/validation.py:63: DataConversionWarning: A column-vector y was passed when a 1d array was expected. Please change the shape of y to (n_samples, ), for example using ravel().\n",
      "  return f(*args, **kwargs)\n"
     ]
    },
    {
     "name": "stdout",
     "output_type": "stream",
     "text": [
      "              precision    recall  f1-score   support\n",
      "\n",
      "       Black       0.48      1.00      0.65      1652\n",
      "  Dark_Brown       0.00      0.00      0.00       893\n",
      "        Grey       0.00      0.00      0.00       233\n",
      " Light_Brown       0.00      0.00      0.00       275\n",
      "Medium_Brown       0.00      0.00      0.00       411\n",
      "\n",
      "    accuracy                           0.48      3464\n",
      "   macro avg       0.10      0.20      0.13      3464\n",
      "weighted avg       0.23      0.48      0.31      3464\n",
      "\n",
      "[[1652    0    0    0    0]\n",
      " [ 893    0    0    0    0]\n",
      " [ 233    0    0    0    0]\n",
      " [ 275    0    0    0    0]\n",
      " [ 411    0    0    0    0]]\n"
     ]
    },
    {
     "name": "stderr",
     "output_type": "stream",
     "text": [
      "/home/roopesh/anaconda3/lib/python3.7/site-packages/sklearn/metrics/_classification.py:1248: UndefinedMetricWarning: Precision and F-score are ill-defined and being set to 0.0 in labels with no predicted samples. Use `zero_division` parameter to control this behavior.\n",
      "  _warn_prf(average, modifier, msg_start, len(result))\n",
      "/home/roopesh/anaconda3/lib/python3.7/site-packages/sklearn/metrics/_classification.py:1248: UndefinedMetricWarning: Precision and F-score are ill-defined and being set to 0.0 in labels with no predicted samples. Use `zero_division` parameter to control this behavior.\n",
      "  _warn_prf(average, modifier, msg_start, len(result))\n",
      "/home/roopesh/anaconda3/lib/python3.7/site-packages/sklearn/metrics/_classification.py:1248: UndefinedMetricWarning: Precision and F-score are ill-defined and being set to 0.0 in labels with no predicted samples. Use `zero_division` parameter to control this behavior.\n",
      "  _warn_prf(average, modifier, msg_start, len(result))\n"
     ]
    },
    {
     "data": {
      "text/plain": [
       "0.476905311778291"
      ]
     },
     "execution_count": 34,
     "metadata": {},
     "output_type": "execute_result"
    }
   ],
   "source": [
    "model1 = LogisticRegression(solver='saga', dual=False, tol=0.0001,fit_intercept=1, C=100.0, penalty='elasticnet',max_iter=800, l1_ratio=0, random_state=60)\n",
    "model1.fit(x1_train, y1_train)\n",
    "lr_predict= model1.predict(x1_test)\n",
    "print(classification_report(y1_test, lr_predict))\n",
    "print(confusion_matrix(y1_test, lr_predict))\n",
    "acc = accuracy_score(y1_test, lr_predict)\n",
    "acc"
   ]
  },
  {
   "cell_type": "code",
   "execution_count": 35,
   "id": "49f21463",
   "metadata": {},
   "outputs": [
    {
     "name": "stderr",
     "output_type": "stream",
     "text": [
      "/home/roopesh/anaconda3/lib/python3.7/site-packages/ipykernel_launcher.py:2: DataConversionWarning: A column-vector y was passed when a 1d array was expected. Please change the shape of y to (n_samples,), for example using ravel().\n",
      "  \n"
     ]
    },
    {
     "name": "stdout",
     "output_type": "stream",
     "text": [
      "              precision    recall  f1-score   support\n",
      "\n",
      "       Black       0.60      0.83      0.70      1652\n",
      "  Dark_Brown       0.60      0.47      0.53       893\n",
      "        Grey       0.49      0.21      0.29       233\n",
      " Light_Brown       0.49      0.20      0.29       275\n",
      "Medium_Brown       0.50      0.34      0.40       411\n",
      "\n",
      "    accuracy                           0.59      3464\n",
      "   macro avg       0.54      0.41      0.44      3464\n",
      "weighted avg       0.57      0.59      0.56      3464\n",
      "\n"
     ]
    },
    {
     "data": {
      "text/plain": [
       "0.5857390300230947"
      ]
     },
     "execution_count": 35,
     "metadata": {},
     "output_type": "execute_result"
    }
   ],
   "source": [
    "rfc = RandomForestClassifier(n_estimators=250, max_depth=40, min_samples_split=15, min_samples_leaf=5)\n",
    "rfc.fit(x1_train, y1_train)\n",
    "pred_rfc = rfc.predict(x1_test)\n",
    "print(classification_report(y1_test, pred_rfc))\n",
    "accuracy_score(y1_test, pred_rfc)"
   ]
  },
  {
   "cell_type": "code",
   "execution_count": 36,
   "id": "b9af26af",
   "metadata": {},
   "outputs": [
    {
     "name": "stdout",
     "output_type": "stream",
     "text": [
      "[[1370  162   22   25   73]\n",
      " [ 412  416   12   19   34]\n",
      " [ 131   35   48    5   14]\n",
      " [ 167   31    3   56   18]\n",
      " [ 204   47   12    9  139]]\n"
     ]
    },
    {
     "data": {
      "image/png": "[encoded data removed]",
      "text/plain": [
       "<Figure size 432x288 with 1 Axes>"
      ]
     },
     "metadata": {
      "needs_background": "light"
     },
     "output_type": "display_data"
    }
   ],
   "source": [
    "#Confusion Matrix\n",
    "cm = confusion_matrix(y1_test,pred_rfc)\n",
    "print(cm)\n",
    "\n",
    "sns.heatmap(cm,cbar=False,annot=True,cmap='Blues',fmt=\"d\")\n",
    "plt.xlabel(\"pred_rfc\")\n",
    "plt.ylabel(\"y1_test\")\n",
    "plt.title(\"Confusion Matrix: Random Forest Classifier\")\n",
    "plt.show()"
   ]
  },
  {
   "cell_type": "code",
   "execution_count": 37,
   "id": "bab43727",
   "metadata": {},
   "outputs": [
    {
     "name": "stdout",
     "output_type": "stream",
     "text": [
      "Knn-First Model: 0.4942263279445728\n",
      "[[1396  159   14   20   63]\n",
      " [ 643  188    5   15   42]\n",
      " [ 161   37   20    3   12]\n",
      " [ 222   22    0   19   12]\n",
      " [ 251   65    4    2   89]]\n",
      "              precision    recall  f1-score   support\n",
      "\n",
      "       Black       0.52      0.85      0.65      1652\n",
      "  Dark_Brown       0.40      0.21      0.28       893\n",
      "        Grey       0.47      0.09      0.14       233\n",
      " Light_Brown       0.32      0.07      0.11       275\n",
      "Medium_Brown       0.41      0.22      0.28       411\n",
      "\n",
      "    accuracy                           0.49      3464\n",
      "   macro avg       0.42      0.29      0.29      3464\n",
      "weighted avg       0.46      0.49      0.43      3464\n",
      "\n"
     ]
    },
    {
     "name": "stderr",
     "output_type": "stream",
     "text": [
      "/home/roopesh/anaconda3/lib/python3.7/site-packages/sklearn/neighbors/_classification.py:179: DataConversionWarning: A column-vector y was passed when a 1d array was expected. Please change the shape of y to (n_samples,), for example using ravel().\n",
      "  return self._fit(X, y)\n"
     ]
    }
   ],
   "source": [
    "from sklearn.neighbors import KNeighborsClassifier\n",
    "from sklearn import metrics\n",
    "\n",
    "classifier = KNeighborsClassifier(n_neighbors=28)\n",
    "classifier.fit(x1_train,y1_train)\n",
    "\n",
    "kn_predict =classifier.predict(x1_test)\n",
    "print(\"Knn-First Model:\",metrics.accuracy_score(y1_test,kn_predict))\n",
    "\n",
    "print(confusion_matrix(y1_test,kn_predict))\n",
    "print(classification_report(y1_test,kn_predict))"
   ]
  },
  {
   "cell_type": "code",
   "execution_count": 38,
   "id": "725b1938",
   "metadata": {},
   "outputs": [
    {
     "name": "stderr",
     "output_type": "stream",
     "text": [
      "/home/roopesh/anaconda3/lib/python3.7/site-packages/sklearn/neighbors/_classification.py:179: DataConversionWarning: A column-vector y was passed when a 1d array was expected. Please change the shape of y to (n_samples,), for example using ravel().\n",
      "  return self._fit(X, y)\n"
     ]
    },
    {
     "name": "stdout",
     "output_type": "stream",
     "text": [
      "Accuracy Score, when K=  1 : 0.437933025404157\n"
     ]
    },
    {
     "name": "stderr",
     "output_type": "stream",
     "text": [
      "/home/roopesh/anaconda3/lib/python3.7/site-packages/sklearn/neighbors/_classification.py:179: DataConversionWarning: A column-vector y was passed when a 1d array was expected. Please change the shape of y to (n_samples,), for example using ravel().\n",
      "  return self._fit(X, y)\n",
      "/home/roopesh/anaconda3/lib/python3.7/site-packages/sklearn/neighbors/_classification.py:179: DataConversionWarning: A column-vector y was passed when a 1d array was expected. Please change the shape of y to (n_samples,), for example using ravel().\n",
      "  return self._fit(X, y)\n"
     ]
    },
    {
     "name": "stdout",
     "output_type": "stream",
     "text": [
      "Accuracy Score, when K=  2 : 0.4780600461893764\n",
      "Accuracy Score, when K=  3 : 0.4714203233256351\n"
     ]
    },
    {
     "name": "stderr",
     "output_type": "stream",
     "text": [
      "/home/roopesh/anaconda3/lib/python3.7/site-packages/sklearn/neighbors/_classification.py:179: DataConversionWarning: A column-vector y was passed when a 1d array was expected. Please change the shape of y to (n_samples,), for example using ravel().\n",
      "  return self._fit(X, y)\n"
     ]
    },
    {
     "name": "stdout",
     "output_type": "stream",
     "text": [
      "Accuracy Score, when K=  4 : 0.4668013856812933\n"
     ]
    },
    {
     "name": "stderr",
     "output_type": "stream",
     "text": [
      "/home/roopesh/anaconda3/lib/python3.7/site-packages/sklearn/neighbors/_classification.py:179: DataConversionWarning: A column-vector y was passed when a 1d array was expected. Please change the shape of y to (n_samples,), for example using ravel().\n",
      "  return self._fit(X, y)\n",
      "/home/roopesh/anaconda3/lib/python3.7/site-packages/sklearn/neighbors/_classification.py:179: DataConversionWarning: A column-vector y was passed when a 1d array was expected. Please change the shape of y to (n_samples,), for example using ravel().\n",
      "  return self._fit(X, y)\n"
     ]
    },
    {
     "name": "stdout",
     "output_type": "stream",
     "text": [
      "Accuracy Score, when K=  5 : 0.4696882217090069\n",
      "Accuracy Score, when K=  6 : 0.47950346420323325\n"
     ]
    },
    {
     "name": "stderr",
     "output_type": "stream",
     "text": [
      "/home/roopesh/anaconda3/lib/python3.7/site-packages/sklearn/neighbors/_classification.py:179: DataConversionWarning: A column-vector y was passed when a 1d array was expected. Please change the shape of y to (n_samples,), for example using ravel().\n",
      "  return self._fit(X, y)\n"
     ]
    },
    {
     "name": "stdout",
     "output_type": "stream",
     "text": [
      "Accuracy Score, when K=  7 : 0.48267898383371827\n"
     ]
    },
    {
     "name": "stderr",
     "output_type": "stream",
     "text": [
      "/home/roopesh/anaconda3/lib/python3.7/site-packages/sklearn/neighbors/_classification.py:179: DataConversionWarning: A column-vector y was passed when a 1d array was expected. Please change the shape of y to (n_samples,), for example using ravel().\n",
      "  return self._fit(X, y)\n",
      "/home/roopesh/anaconda3/lib/python3.7/site-packages/sklearn/neighbors/_classification.py:179: DataConversionWarning: A column-vector y was passed when a 1d array was expected. Please change the shape of y to (n_samples,), for example using ravel().\n",
      "  return self._fit(X, y)\n"
     ]
    },
    {
     "name": "stdout",
     "output_type": "stream",
     "text": [
      "Accuracy Score, when K=  8 : 0.47748267898383373\n",
      "Accuracy Score, when K=  9 : 0.4809468822170901\n"
     ]
    },
    {
     "name": "stderr",
     "output_type": "stream",
     "text": [
      "/home/roopesh/anaconda3/lib/python3.7/site-packages/sklearn/neighbors/_classification.py:179: DataConversionWarning: A column-vector y was passed when a 1d array was expected. Please change the shape of y to (n_samples,), for example using ravel().\n",
      "  return self._fit(X, y)\n"
     ]
    },
    {
     "name": "stdout",
     "output_type": "stream",
     "text": [
      "Accuracy Score, when K=  10 : 0.48123556581986143\n"
     ]
    },
    {
     "name": "stderr",
     "output_type": "stream",
     "text": [
      "/home/roopesh/anaconda3/lib/python3.7/site-packages/sklearn/neighbors/_classification.py:179: DataConversionWarning: A column-vector y was passed when a 1d array was expected. Please change the shape of y to (n_samples,), for example using ravel().\n",
      "  return self._fit(X, y)\n",
      "/home/roopesh/anaconda3/lib/python3.7/site-packages/sklearn/neighbors/_classification.py:179: DataConversionWarning: A column-vector y was passed when a 1d array was expected. Please change the shape of y to (n_samples,), for example using ravel().\n",
      "  return self._fit(X, y)\n"
     ]
    },
    {
     "name": "stdout",
     "output_type": "stream",
     "text": [
      "Accuracy Score, when K=  11 : 0.4896073903002309\n",
      "Accuracy Score, when K=  12 : 0.4913394919168591\n"
     ]
    },
    {
     "name": "stderr",
     "output_type": "stream",
     "text": [
      "/home/roopesh/anaconda3/lib/python3.7/site-packages/sklearn/neighbors/_classification.py:179: DataConversionWarning: A column-vector y was passed when a 1d array was expected. Please change the shape of y to (n_samples,), for example using ravel().\n",
      "  return self._fit(X, y)\n"
     ]
    },
    {
     "name": "stdout",
     "output_type": "stream",
     "text": [
      "Accuracy Score, when K=  13 : 0.48874133949191684\n"
     ]
    },
    {
     "name": "stderr",
     "output_type": "stream",
     "text": [
      "/home/roopesh/anaconda3/lib/python3.7/site-packages/sklearn/neighbors/_classification.py:179: DataConversionWarning: A column-vector y was passed when a 1d array was expected. Please change the shape of y to (n_samples,), for example using ravel().\n",
      "  return self._fit(X, y)\n",
      "/home/roopesh/anaconda3/lib/python3.7/site-packages/sklearn/neighbors/_classification.py:179: DataConversionWarning: A column-vector y was passed when a 1d array was expected. Please change the shape of y to (n_samples,), for example using ravel().\n",
      "  return self._fit(X, y)\n"
     ]
    },
    {
     "name": "stdout",
     "output_type": "stream",
     "text": [
      "Accuracy Score, when K=  14 : 0.4893187066974596\n",
      "Accuracy Score, when K=  15 : 0.4953810623556582\n"
     ]
    },
    {
     "name": "stderr",
     "output_type": "stream",
     "text": [
      "/home/roopesh/anaconda3/lib/python3.7/site-packages/sklearn/neighbors/_classification.py:179: DataConversionWarning: A column-vector y was passed when a 1d array was expected. Please change the shape of y to (n_samples,), for example using ravel().\n",
      "  return self._fit(X, y)\n"
     ]
    },
    {
     "name": "stdout",
     "output_type": "stream",
     "text": [
      "Accuracy Score, when K=  16 : 0.4867205542725173\n"
     ]
    },
    {
     "name": "stderr",
     "output_type": "stream",
     "text": [
      "/home/roopesh/anaconda3/lib/python3.7/site-packages/sklearn/neighbors/_classification.py:179: DataConversionWarning: A column-vector y was passed when a 1d array was expected. Please change the shape of y to (n_samples,), for example using ravel().\n",
      "  return self._fit(X, y)\n",
      "/home/roopesh/anaconda3/lib/python3.7/site-packages/sklearn/neighbors/_classification.py:179: DataConversionWarning: A column-vector y was passed when a 1d array was expected. Please change the shape of y to (n_samples,), for example using ravel().\n",
      "  return self._fit(X, y)\n"
     ]
    },
    {
     "name": "stdout",
     "output_type": "stream",
     "text": [
      "Accuracy Score, when K=  17 : 0.4867205542725173\n",
      "Accuracy Score, when K=  18 : 0.48267898383371827\n"
     ]
    },
    {
     "name": "stderr",
     "output_type": "stream",
     "text": [
      "/home/roopesh/anaconda3/lib/python3.7/site-packages/sklearn/neighbors/_classification.py:179: DataConversionWarning: A column-vector y was passed when a 1d array was expected. Please change the shape of y to (n_samples,), for example using ravel().\n",
      "  return self._fit(X, y)\n"
     ]
    },
    {
     "name": "stdout",
     "output_type": "stream",
     "text": [
      "Accuracy Score, when K=  19 : 0.4846997690531178\n"
     ]
    },
    {
     "name": "stderr",
     "output_type": "stream",
     "text": [
      "/home/roopesh/anaconda3/lib/python3.7/site-packages/sklearn/neighbors/_classification.py:179: DataConversionWarning: A column-vector y was passed when a 1d array was expected. Please change the shape of y to (n_samples,), for example using ravel().\n",
      "  return self._fit(X, y)\n",
      "/home/roopesh/anaconda3/lib/python3.7/site-packages/sklearn/neighbors/_classification.py:179: DataConversionWarning: A column-vector y was passed when a 1d array was expected. Please change the shape of y to (n_samples,), for example using ravel().\n",
      "  return self._fit(X, y)\n"
     ]
    },
    {
     "name": "stdout",
     "output_type": "stream",
     "text": [
      "Accuracy Score, when K=  20 : 0.4884526558891455\n",
      "Accuracy Score, when K=  21 : 0.4855658198614319\n"
     ]
    },
    {
     "name": "stderr",
     "output_type": "stream",
     "text": [
      "/home/roopesh/anaconda3/lib/python3.7/site-packages/sklearn/neighbors/_classification.py:179: DataConversionWarning: A column-vector y was passed when a 1d array was expected. Please change the shape of y to (n_samples,), for example using ravel().\n",
      "  return self._fit(X, y)\n"
     ]
    },
    {
     "name": "stdout",
     "output_type": "stream",
     "text": [
      "Accuracy Score, when K=  22 : 0.4884526558891455\n"
     ]
    },
    {
     "name": "stderr",
     "output_type": "stream",
     "text": [
      "/home/roopesh/anaconda3/lib/python3.7/site-packages/sklearn/neighbors/_classification.py:179: DataConversionWarning: A column-vector y was passed when a 1d array was expected. Please change the shape of y to (n_samples,), for example using ravel().\n",
      "  return self._fit(X, y)\n",
      "/home/roopesh/anaconda3/lib/python3.7/site-packages/sklearn/neighbors/_classification.py:179: DataConversionWarning: A column-vector y was passed when a 1d array was expected. Please change the shape of y to (n_samples,), for example using ravel().\n",
      "  return self._fit(X, y)\n"
     ]
    },
    {
     "name": "stdout",
     "output_type": "stream",
     "text": [
      "Accuracy Score, when K=  23 : 0.4913394919168591\n",
      "Accuracy Score, when K=  24 : 0.49105080831408776\n"
     ]
    },
    {
     "name": "stderr",
     "output_type": "stream",
     "text": [
      "/home/roopesh/anaconda3/lib/python3.7/site-packages/sklearn/neighbors/_classification.py:179: DataConversionWarning: A column-vector y was passed when a 1d array was expected. Please change the shape of y to (n_samples,), for example using ravel().\n",
      "  return self._fit(X, y)\n"
     ]
    },
    {
     "name": "stdout",
     "output_type": "stream",
     "text": [
      "Accuracy Score, when K=  25 : 0.4907621247113164\n"
     ]
    },
    {
     "name": "stderr",
     "output_type": "stream",
     "text": [
      "/home/roopesh/anaconda3/lib/python3.7/site-packages/sklearn/neighbors/_classification.py:179: DataConversionWarning: A column-vector y was passed when a 1d array was expected. Please change the shape of y to (n_samples,), for example using ravel().\n",
      "  return self._fit(X, y)\n",
      "/home/roopesh/anaconda3/lib/python3.7/site-packages/sklearn/neighbors/_classification.py:179: DataConversionWarning: A column-vector y was passed when a 1d array was expected. Please change the shape of y to (n_samples,), for example using ravel().\n",
      "  return self._fit(X, y)\n"
     ]
    },
    {
     "name": "stdout",
     "output_type": "stream",
     "text": [
      "Accuracy Score, when K=  26 : 0.49278290993071594\n",
      "Accuracy Score, when K=  27 : 0.49278290993071594\n"
     ]
    },
    {
     "name": "stderr",
     "output_type": "stream",
     "text": [
      "/home/roopesh/anaconda3/lib/python3.7/site-packages/sklearn/neighbors/_classification.py:179: DataConversionWarning: A column-vector y was passed when a 1d array was expected. Please change the shape of y to (n_samples,), for example using ravel().\n",
      "  return self._fit(X, y)\n"
     ]
    },
    {
     "name": "stdout",
     "output_type": "stream",
     "text": [
      "Accuracy Score, when K=  28 : 0.4942263279445728\n"
     ]
    },
    {
     "name": "stderr",
     "output_type": "stream",
     "text": [
      "/home/roopesh/anaconda3/lib/python3.7/site-packages/sklearn/neighbors/_classification.py:179: DataConversionWarning: A column-vector y was passed when a 1d array was expected. Please change the shape of y to (n_samples,), for example using ravel().\n",
      "  return self._fit(X, y)\n",
      "/home/roopesh/anaconda3/lib/python3.7/site-packages/sklearn/neighbors/_classification.py:179: DataConversionWarning: A column-vector y was passed when a 1d array was expected. Please change the shape of y to (n_samples,), for example using ravel().\n",
      "  return self._fit(X, y)\n"
     ]
    },
    {
     "name": "stdout",
     "output_type": "stream",
     "text": [
      "Accuracy Score, when K=  29 : 0.49653579676674364\n",
      "Accuracy Score, when K=  30 : 0.4939376443418014\n"
     ]
    },
    {
     "name": "stderr",
     "output_type": "stream",
     "text": [
      "/home/roopesh/anaconda3/lib/python3.7/site-packages/sklearn/neighbors/_classification.py:179: DataConversionWarning: A column-vector y was passed when a 1d array was expected. Please change the shape of y to (n_samples,), for example using ravel().\n",
      "  return self._fit(X, y)\n"
     ]
    },
    {
     "name": "stdout",
     "output_type": "stream",
     "text": [
      "Accuracy Score, when K=  31 : 0.4962471131639723\n"
     ]
    },
    {
     "name": "stderr",
     "output_type": "stream",
     "text": [
      "/home/roopesh/anaconda3/lib/python3.7/site-packages/sklearn/neighbors/_classification.py:179: DataConversionWarning: A column-vector y was passed when a 1d array was expected. Please change the shape of y to (n_samples,), for example using ravel().\n",
      "  return self._fit(X, y)\n",
      "/home/roopesh/anaconda3/lib/python3.7/site-packages/sklearn/neighbors/_classification.py:179: DataConversionWarning: A column-vector y was passed when a 1d array was expected. Please change the shape of y to (n_samples,), for example using ravel().\n",
      "  return self._fit(X, y)\n"
     ]
    },
    {
     "name": "stdout",
     "output_type": "stream",
     "text": [
      "Accuracy Score, when K=  32 : 0.4945150115473441\n",
      "Accuracy Score, when K=  33 : 0.4976905311778291\n"
     ]
    },
    {
     "name": "stderr",
     "output_type": "stream",
     "text": [
      "/home/roopesh/anaconda3/lib/python3.7/site-packages/sklearn/neighbors/_classification.py:179: DataConversionWarning: A column-vector y was passed when a 1d array was expected. Please change the shape of y to (n_samples,), for example using ravel().\n",
      "  return self._fit(X, y)\n",
      "/home/roopesh/anaconda3/lib/python3.7/site-packages/sklearn/neighbors/_classification.py:179: DataConversionWarning: A column-vector y was passed when a 1d array was expected. Please change the shape of y to (n_samples,), for example using ravel().\n",
      "  return self._fit(X, y)\n"
     ]
    },
    {
     "name": "stdout",
     "output_type": "stream",
     "text": [
      "Accuracy Score, when K=  34 : 0.49653579676674364\n",
      "Accuracy Score, when K=  35 : 0.4930715935334873\n"
     ]
    },
    {
     "name": "stderr",
     "output_type": "stream",
     "text": [
      "/home/roopesh/anaconda3/lib/python3.7/site-packages/sklearn/neighbors/_classification.py:179: DataConversionWarning: A column-vector y was passed when a 1d array was expected. Please change the shape of y to (n_samples,), for example using ravel().\n",
      "  return self._fit(X, y)\n",
      "/home/roopesh/anaconda3/lib/python3.7/site-packages/sklearn/neighbors/_classification.py:179: DataConversionWarning: A column-vector y was passed when a 1d array was expected. Please change the shape of y to (n_samples,), for example using ravel().\n",
      "  return self._fit(X, y)\n"
     ]
    },
    {
     "name": "stdout",
     "output_type": "stream",
     "text": [
      "Accuracy Score, when K=  36 : 0.49740184757505773\n",
      "Accuracy Score, when K=  37 : 0.4930715935334873\n",
      "Accuracy Score, when K=  38 : 0.49364896073903003\n"
     ]
    },
    {
     "name": "stderr",
     "output_type": "stream",
     "text": [
      "/home/roopesh/anaconda3/lib/python3.7/site-packages/sklearn/neighbors/_classification.py:179: DataConversionWarning: A column-vector y was passed when a 1d array was expected. Please change the shape of y to (n_samples,), for example using ravel().\n",
      "  return self._fit(X, y)\n",
      "/home/roopesh/anaconda3/lib/python3.7/site-packages/sklearn/neighbors/_classification.py:179: DataConversionWarning: A column-vector y was passed when a 1d array was expected. Please change the shape of y to (n_samples,), for example using ravel().\n",
      "  return self._fit(X, y)\n"
     ]
    },
    {
     "name": "stdout",
     "output_type": "stream",
     "text": [
      "Accuracy Score, when K=  39 : 0.4924942263279446\n",
      "Best K value is 5 \n"
     ]
    }
   ],
   "source": [
    "error = []   \n",
    "# Calculating error for K values between 1 and 40 \n",
    "for i in range(1, 40): \n",
    "    knn = KNeighborsClassifier(n_neighbors=i) \n",
    "    knn.fit(x1_train, y1_train) \n",
    "    pred_i = knn.predict(x1_test) \n",
    "#     error.append(np.mean(pred_i != y1_test))\n",
    "    print(\"Accuracy Score, when K= \",i,\":\",metrics.accuracy_score(y1_test,pred_i))\n",
    "    \n",
    "print(\"Best K value is 5 \")\n",
    "    \n",
    "# plt.figure(figsize=(12, 6)) \n",
    "# plt.plot(range(1, 40), error, color='red', linestyle='dashed', marker='o', markerfacecolor='blue', markersize=10) \n",
    "# plt.title('Error Rate Vs K-Value from 1 to 40') \n",
    "# plt.xlabel('K Value') \n",
    "# plt.ylabel('Mean Error')   "
   ]
  },
  {
   "cell_type": "code",
   "execution_count": 39,
   "id": "9ce56cc9",
   "metadata": {},
   "outputs": [
    {
     "name": "stderr",
     "output_type": "stream",
     "text": [
      "/home/roopesh/anaconda3/lib/python3.7/site-packages/sklearn/utils/validation.py:63: DataConversionWarning: A column-vector y was passed when a 1d array was expected. Please change the shape of y to (n_samples, ), for example using ravel().\n",
      "  return f(*args, **kwargs)\n"
     ]
    },
    {
     "name": "stdout",
     "output_type": "stream",
     "text": [
      "              precision    recall  f1-score   support\n",
      "\n",
      "       Black       0.49      0.94      0.65      1652\n",
      "  Dark_Brown       0.41      0.06      0.11       893\n",
      "        Grey       0.20      0.08      0.12       233\n",
      " Light_Brown       0.00      0.00      0.00       275\n",
      "Medium_Brown       0.45      0.06      0.10       411\n",
      "\n",
      "    accuracy                           0.48      3464\n",
      "   macro avg       0.31      0.23      0.20      3464\n",
      "weighted avg       0.41      0.48      0.36      3464\n",
      "\n",
      "Accuarcy : 0.47950346420323325\n"
     ]
    },
    {
     "name": "stderr",
     "output_type": "stream",
     "text": [
      "/home/roopesh/anaconda3/lib/python3.7/site-packages/sklearn/metrics/_classification.py:1248: UndefinedMetricWarning: Precision and F-score are ill-defined and being set to 0.0 in labels with no predicted samples. Use `zero_division` parameter to control this behavior.\n",
      "  _warn_prf(average, modifier, msg_start, len(result))\n",
      "/home/roopesh/anaconda3/lib/python3.7/site-packages/sklearn/metrics/_classification.py:1248: UndefinedMetricWarning: Precision and F-score are ill-defined and being set to 0.0 in labels with no predicted samples. Use `zero_division` parameter to control this behavior.\n",
      "  _warn_prf(average, modifier, msg_start, len(result))\n",
      "/home/roopesh/anaconda3/lib/python3.7/site-packages/sklearn/metrics/_classification.py:1248: UndefinedMetricWarning: Precision and F-score are ill-defined and being set to 0.0 in labels with no predicted samples. Use `zero_division` parameter to control this behavior.\n",
      "  _warn_prf(average, modifier, msg_start, len(result))\n"
     ]
    }
   ],
   "source": [
    "#AdaBoost \n",
    "from sklearn.ensemble import AdaBoostClassifier\n",
    "adboost = AdaBoostClassifier(n_estimators =50, random_state=1)\n",
    "adboost.fit(x1_train, y1_train)\n",
    "y_pred_adboost = adboost.predict(x1_test)\n",
    "print(classification_report(y1_test, y_pred_adboost))\n",
    "print(\"Accuarcy :\", accuracy_score(y1_test, y_pred_adboost))"
   ]
  },
  {
   "cell_type": "code",
   "execution_count": 40,
   "id": "e55252e6",
   "metadata": {},
   "outputs": [],
   "source": [
    "final = pd.DataFrame({'MODELS': [\"Logistic Regression\",\"Random Forest\",\"KNN\",\"AdaBoost\"],\n",
    "'ACCURACY': [accuracy_score(y1_test, lr_predict),accuracy_score(y1_test, pred_rfc),metrics.accuracy_score(y1_test,kn_predict), accuracy_score(y1_test, y_pred_adboost) ]})"
   ]
  },
  {
   "cell_type": "code",
   "execution_count": 41,
   "id": "093b9234",
   "metadata": {},
   "outputs": [
    {
     "data": {
      "text/html": [
       "<div>\n",
       "<style scoped>\n",
       "    .dataframe tbody tr th:only-of-type {\n",
       "        vertical-align: middle;\n",
       "    }\n",
       "\n",
       "    .dataframe tbody tr th {\n",
       "        vertical-align: top;\n",
       "    }\n",
       "\n",
       "    .dataframe thead th {\n",
       "        text-align: right;\n",
       "    }\n",
       "</style>\n",
       "<table border=\"1\" class=\"dataframe\">\n",
       "  <thead>\n",
       "    <tr style=\"text-align: right;\">\n",
       "      <th></th>\n",
       "      <th>MODELS</th>\n",
       "    </tr>\n",
       "    <tr>\n",
       "      <th>ACCURACY</th>\n",
       "      <th></th>\n",
       "    </tr>\n",
       "  </thead>\n",
       "  <tbody>\n",
       "    <tr>\n",
       "      <th>0.585739</th>\n",
       "      <td>Random Forest</td>\n",
       "    </tr>\n",
       "    <tr>\n",
       "      <th>0.494226</th>\n",
       "      <td>KNN</td>\n",
       "    </tr>\n",
       "    <tr>\n",
       "      <th>0.479503</th>\n",
       "      <td>AdaBoost</td>\n",
       "    </tr>\n",
       "    <tr>\n",
       "      <th>0.476905</th>\n",
       "      <td>Logistic Regression</td>\n",
       "    </tr>\n",
       "  </tbody>\n",
       "</table>\n",
       "</div>"
      ],
      "text/plain": [
       "                       MODELS\n",
       "ACCURACY                     \n",
       "0.585739        Random Forest\n",
       "0.494226                  KNN\n",
       "0.479503             AdaBoost\n",
       "0.476905  Logistic Regression"
      ]
     },
     "execution_count": 41,
     "metadata": {},
     "output_type": "execute_result"
    }
   ],
   "source": [
    "end= final.sort_values(by='ACCURACY', ascending=False)\n",
    "end_all = end.set_index('ACCURACY')\n",
    "end_all"
   ]
  },
  {
   "cell_type": "code",
   "execution_count": 42,
   "id": "5525742f",
   "metadata": {},
   "outputs": [
    {
     "data": {
      "text/html": [
       "<div>\n",
       "<style scoped>\n",
       "    .dataframe tbody tr th:only-of-type {\n",
       "        vertical-align: middle;\n",
       "    }\n",
       "\n",
       "    .dataframe tbody tr th {\n",
       "        vertical-align: top;\n",
       "    }\n",
       "\n",
       "    .dataframe thead th {\n",
       "        text-align: right;\n",
       "    }\n",
       "</style>\n",
       "<table border=\"1\" class=\"dataframe\">\n",
       "  <thead>\n",
       "    <tr style=\"text-align: right;\">\n",
       "      <th></th>\n",
       "      <th>Iris_Color</th>\n",
       "    </tr>\n",
       "  </thead>\n",
       "  <tbody>\n",
       "    <tr>\n",
       "      <th>7767</th>\n",
       "      <td>Black</td>\n",
       "    </tr>\n",
       "    <tr>\n",
       "      <th>13826</th>\n",
       "      <td>Black</td>\n",
       "    </tr>\n",
       "    <tr>\n",
       "      <th>3803</th>\n",
       "      <td>Black</td>\n",
       "    </tr>\n",
       "    <tr>\n",
       "      <th>5802</th>\n",
       "      <td>Light_Brown</td>\n",
       "    </tr>\n",
       "    <tr>\n",
       "      <th>216</th>\n",
       "      <td>Dark_Brown</td>\n",
       "    </tr>\n",
       "    <tr>\n",
       "      <th>...</th>\n",
       "      <td>...</td>\n",
       "    </tr>\n",
       "    <tr>\n",
       "      <th>166</th>\n",
       "      <td>Dark_Brown</td>\n",
       "    </tr>\n",
       "    <tr>\n",
       "      <th>12965</th>\n",
       "      <td>Black</td>\n",
       "    </tr>\n",
       "    <tr>\n",
       "      <th>2784</th>\n",
       "      <td>Grey</td>\n",
       "    </tr>\n",
       "    <tr>\n",
       "      <th>249</th>\n",
       "      <td>Dark_Brown</td>\n",
       "    </tr>\n",
       "    <tr>\n",
       "      <th>5211</th>\n",
       "      <td>Black</td>\n",
       "    </tr>\n",
       "  </tbody>\n",
       "</table>\n",
       "<p>3464 rows × 1 columns</p>\n",
       "</div>"
      ],
      "text/plain": [
       "        Iris_Color\n",
       "7767         Black\n",
       "13826        Black\n",
       "3803         Black\n",
       "5802   Light_Brown\n",
       "216     Dark_Brown\n",
       "...            ...\n",
       "166     Dark_Brown\n",
       "12965        Black\n",
       "2784          Grey\n",
       "249     Dark_Brown\n",
       "5211         Black\n",
       "\n",
       "[3464 rows x 1 columns]"
      ]
     },
     "execution_count": 42,
     "metadata": {},
     "output_type": "execute_result"
    }
   ],
   "source": [
    "y1_test"
   ]
  },
  {
   "cell_type": "code",
   "execution_count": 43,
   "id": "813cfed2",
   "metadata": {},
   "outputs": [],
   "source": [
    "# submission_result = pd.DataFrame({'data': y1_test, 'Predicted':pred_rfc})\n",
    "# submission_result"
   ]
  },
  {
   "cell_type": "code",
   "execution_count": 44,
   "id": "b1ff09af",
   "metadata": {},
   "outputs": [
    {
     "data": {
      "text/plain": [
       "array(['Dark_Brown', 'Black', 'Dark_Brown', ..., 'Grey', 'Dark_Brown',\n",
       "       'Black'], dtype=object)"
      ]
     },
     "execution_count": 44,
     "metadata": {},
     "output_type": "execute_result"
    }
   ],
   "source": [
    "pred_rfc"
   ]
  },
  {
   "cell_type": "code",
   "execution_count": null,
   "id": "8ad68e72",
   "metadata": {},
   "outputs": [],
   "source": []
  }
 ],
 "metadata": {
  "kernelspec": {
   "display_name": "Python 3",
   "language": "python",
   "name": "python3"
  },
  "language_info": {
   "codemirror_mode": {
    "name": "ipython",
    "version": 3
   },
   "file_extension": ".py",
   "mimetype": "text/x-python",
   "name": "python",
   "nbconvert_exporter": "python",
   "pygments_lexer": "ipython3",
   "version": "3.7.11"
  }
 },
 "nbformat": 4,
 "nbformat_minor": 5
}
