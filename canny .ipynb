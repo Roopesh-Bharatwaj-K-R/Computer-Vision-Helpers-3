{
 "cells": [
  {
   "cell_type": "code",
   "execution_count": 13,
   "id": "75b3c86b",
   "metadata": {},
   "outputs": [],
   "source": [
    "import cv2\n"
   ]
  },
  {
   "cell_type": "code",
   "execution_count": 12,
   "id": "f39c0827",
   "metadata": {},
   "outputs": [],
   "source": [
    "import glob\n",
    "\n",
    "path=('/home/roopesh/Desktop/MediaPipe /cv-exp-framework-master/images/*.png')\n",
    "for file in glob.glob(path):\n",
    "    frames = cv2.imread(file)\n",
    "    cv2.imshow('', frames)\n",
    "    cv2.waitKey(1000)\n",
    "    "
   ]
  },
  {
   "cell_type": "code",
   "execution_count": null,
   "id": "32a3a314",
   "metadata": {},
   "outputs": [],
   "source": [
    "import cv2\n",
    "import numpy as np\n",
    "\n",
    "img_rgb = cv2.imread(\"/home/roopesh/Desktop/MediaPipe /cv-exp-framework-master/images/image3.png\")\n",
    "cv2.namedWindow(\"Original Image\",cv2.WINDOW_NORMAL)\n",
    "\n",
    "img = cv2.cvtColor(img_rgb,cv2.COLOR_RGB2HSV)\n",
    "img = cv2.bilateralFilter(img,9,105,105)\n",
    "r,g,b=cv2.split(img)\n",
    "equalize1= cv2.equalizeHist(r)\n",
    "equalize2= cv2.equalizeHist(g)\n",
    "equalize3= cv2.equalizeHist(b)\n",
    "equalize=cv2.merge((r,g,b))\n",
    "\n",
    "equalize = cv2.cvtColor(equalize,cv2.COLOR_RGB2GRAY)\n",
    "\n",
    "ret,thresh_image = cv2.threshold(equalize,0,255,cv2.THRESH_OTSU+cv2.THRESH_BINARY)\n",
    "equalize= cv2.equalizeHist(thresh_image)\n",
    "\n",
    "\n",
    "canny_image = cv2.Canny(equalize,250,255)\n",
    "canny_image = cv2.convertScaleAbs(canny_image)\n",
    "kernel = np.ones((3,3), np.uint8)\n",
    "dilated_image = cv2.dilate(canny_image,kernel,iterations=1)\n",
    "\n",
    "\n",
    "new,contours, hierarchy = cv2.findContours(dilated_image, cv2.RETR_TREE, cv2.CHAIN_APPROX_SIMPLE)\n",
    "contours= sorted(contours, key = cv2.contourArea, reverse = True)[:10]\n",
    "c=contours[0]\n",
    "print(cv2.contourArea(c))\n",
    "final = cv2.drawContours(img, [c], -1, (255,0, 0), 3)\n",
    "\n",
    "\n",
    "\n",
    "mask = np.zeros(img_rgb.shape,np.uint8)\n",
    "new_image = cv2.drawContours(mask,[c],0,255,-1,)\n",
    "new_image = cv2.bitwise_and(img_rgb,img_rgb,mask=mask)\n",
    "\n",
    "\n",
    "cv2.namedWindow(\"new\",cv2.WINDOW_NORMAL)\n",
    "cv2.imshow(\"new\",new_image)\n",
    "\n",
    "cv2.imshow(\"Original Image\",img)\n",
    "cv2.waitKey() "
   ]
  },
  {
   "cell_type": "code",
   "execution_count": null,
   "id": "5103677f",
   "metadata": {},
   "outputs": [],
   "source": [
    "import numpy as np\n",
    "import urllib\n",
    "import cv2\n",
    "\n",
    "url='http://scipy-lectures.org/_images/sphx_glr_plot_camera_001.png'\n",
    "resp = urllib.request.urlopen(url)\n",
    "image = np.asarray(bytearray(resp.read()), dtype=\"uint8\")\n",
    "image = cv2.imdecode(image, cv2.IMREAD_COLOR)\n",
    "\n",
    "cv2.imshow(\"Image\", image[:200,:200])\n",
    "cv2.waitKey(0)"
   ]
  },
  {
   "cell_type": "code",
   "execution_count": null,
   "id": "c07c206f",
   "metadata": {},
   "outputs": [],
   "source": []
  }
 ],
 "metadata": {
  "kernelspec": {
   "display_name": "Python 3",
   "language": "python",
   "name": "python3"
  },
  "language_info": {
   "codemirror_mode": {
    "name": "ipython",
    "version": 3
   },
   "file_extension": ".py",
   "mimetype": "text/x-python",
   "name": "python",
   "nbconvert_exporter": "python",
   "pygments_lexer": "ipython3",
   "version": "3.7.11"
  }
 },
 "nbformat": 4,
 "nbformat_minor": 5
}
