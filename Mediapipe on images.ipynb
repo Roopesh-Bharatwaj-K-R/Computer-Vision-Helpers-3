{
 "cells": [
  {
   "cell_type": "code",
   "execution_count": 7,
   "id": "4c93adbf",
   "metadata": {},
   "outputs": [],
   "source": [
    "import mediapipe as mp\n",
    "import cv2\n",
    "import numpy as np\n",
    "import glob"
   ]
  },
  {
   "cell_type": "code",
   "execution_count": 2,
   "id": "5566a2c4",
   "metadata": {},
   "outputs": [
    {
     "name": "stdout",
     "output_type": "stream",
     "text": [
      "Collecting mediapipe\n",
      "  Downloading mediapipe-0.8.9-cp37-cp37m-manylinux_2_17_x86_64.manylinux2014_x86_64.whl (32.8 MB)\n",
      "\u001b[K     |████████████████████████████████| 32.8 MB 3.4 MB/s eta 0:00:01\n",
      "\u001b[?25hCollecting protobuf>=3.11.4\n",
      "  Downloading protobuf-3.19.1-cp37-cp37m-manylinux_2_17_x86_64.manylinux2014_x86_64.whl (1.1 MB)\n",
      "\u001b[K     |████████████████████████████████| 1.1 MB 103.3 MB/s eta 0:00:01\n",
      "\u001b[?25hRequirement already satisfied: matplotlib in /home/roopesh/anaconda3/lib/python3.7/site-packages (from mediapipe) (3.4.2)\n",
      "Collecting absl-py\n",
      "  Downloading absl_py-1.0.0-py3-none-any.whl (126 kB)\n",
      "\u001b[K     |████████████████████████████████| 126 kB 29.1 MB/s eta 0:00:01\n",
      "\u001b[?25hRequirement already satisfied: attrs>=19.1.0 in /home/roopesh/anaconda3/lib/python3.7/site-packages (from mediapipe) (21.2.0)\n",
      "Requirement already satisfied: six in /home/roopesh/anaconda3/lib/python3.7/site-packages (from mediapipe) (1.16.0)\n",
      "Requirement already satisfied: numpy in /home/roopesh/anaconda3/lib/python3.7/site-packages (from mediapipe) (1.20.3)\n",
      "Collecting opencv-contrib-python\n",
      "  Downloading opencv_contrib_python-4.5.4.58-cp37-cp37m-manylinux2014_x86_64.whl (66.5 MB)\n",
      "\u001b[K     |████████████████████████████████| 66.5 MB 33.9 MB/s eta 0:00:01\n",
      "\u001b[?25hRequirement already satisfied: wheel in /home/roopesh/anaconda3/lib/python3.7/site-packages (from mediapipe) (0.37.0)\n",
      "Requirement already satisfied: python-dateutil>=2.7 in /home/roopesh/anaconda3/lib/python3.7/site-packages (from matplotlib->mediapipe) (2.8.2)\n",
      "Requirement already satisfied: cycler>=0.10 in /home/roopesh/anaconda3/lib/python3.7/site-packages (from matplotlib->mediapipe) (0.10.0)\n",
      "Requirement already satisfied: kiwisolver>=1.0.1 in /home/roopesh/anaconda3/lib/python3.7/site-packages (from matplotlib->mediapipe) (1.3.1)\n",
      "Requirement already satisfied: pyparsing>=2.2.1 in /home/roopesh/anaconda3/lib/python3.7/site-packages (from matplotlib->mediapipe) (2.4.7)\n",
      "Requirement already satisfied: pillow>=6.2.0 in /home/roopesh/anaconda3/lib/python3.7/site-packages (from matplotlib->mediapipe) (8.3.1)\n",
      "Installing collected packages: protobuf, opencv-contrib-python, absl-py, mediapipe\n",
      "Successfully installed absl-py-1.0.0 mediapipe-0.8.9 opencv-contrib-python-4.5.4.58 protobuf-3.19.1\n",
      "Note: you may need to restart the kernel to use updated packages.\n"
     ]
    }
   ],
   "source": [
    "pip install mediapipe"
   ]
  },
  {
   "cell_type": "code",
   "execution_count": 8,
   "id": "b25ea2eb",
   "metadata": {},
   "outputs": [
    {
     "ename": "error",
     "evalue": "OpenCV(4.5.4-dev) :-1: error: (-5:Bad argument) in function 'imshow'\n> Overload resolution failed:\n>  - imshow() takes at most 2 arguments (3 given)\n>  - imshow() takes at most 2 arguments (3 given)\n>  - imshow() takes at most 2 arguments (3 given)\n",
     "output_type": "error",
     "traceback": [
      "\u001b[0;31m---------------------------------------------------------------------------\u001b[0m",
      "\u001b[0;31merror\u001b[0m                                     Traceback (most recent call last)",
      "\u001b[0;32m<ipython-input-8-966e206f2c0d>\u001b[0m in \u001b[0;36m<module>\u001b[0;34m\u001b[0m\n\u001b[1;32m     18\u001b[0m \u001b[0;34m\u001b[0m\u001b[0m\n\u001b[1;32m     19\u001b[0m     \u001b[0mp\u001b[0m\u001b[0;34m=\u001b[0m\u001b[0;34m(\u001b[0m\u001b[0;34m'/home/roopesh/Desktop/MediaPipe /cv-exp-framework-master/images/*.png'\u001b[0m\u001b[0;34m)\u001b[0m\u001b[0;34m\u001b[0m\u001b[0;34m\u001b[0m\u001b[0m\n\u001b[0;32m---> 20\u001b[0;31m     \u001b[0mpath_to_images\u001b[0m\u001b[0;34m(\u001b[0m\u001b[0mp\u001b[0m\u001b[0;34m)\u001b[0m\u001b[0;34m\u001b[0m\u001b[0;34m\u001b[0m\u001b[0m\n\u001b[0m\u001b[1;32m     21\u001b[0m \u001b[0;34m\u001b[0m\u001b[0m\n",
      "\u001b[0;32m<ipython-input-8-966e206f2c0d>\u001b[0m in \u001b[0;36mpath_to_images\u001b[0;34m(path)\u001b[0m\n\u001b[1;32m      7\u001b[0m \u001b[0;34m\u001b[0m\u001b[0m\n\u001b[1;32m      8\u001b[0m         \u001b[0mimg\u001b[0m \u001b[0;34m=\u001b[0m \u001b[0mcv2\u001b[0m\u001b[0;34m.\u001b[0m\u001b[0mcvtColor\u001b[0m\u001b[0;34m(\u001b[0m\u001b[0mimg\u001b[0m\u001b[0;34m,\u001b[0m \u001b[0mcv2\u001b[0m\u001b[0;34m.\u001b[0m\u001b[0mCOLOR_RGB2BGR\u001b[0m\u001b[0;34m)\u001b[0m\u001b[0;34m\u001b[0m\u001b[0;34m\u001b[0m\u001b[0m\n\u001b[0;32m----> 9\u001b[0;31m         \u001b[0mcv2\u001b[0m\u001b[0;34m.\u001b[0m\u001b[0mimshow\u001b[0m\u001b[0;34m(\u001b[0m\u001b[0;34m'Color image'\u001b[0m\u001b[0;34m,\u001b[0m\u001b[0midx\u001b[0m\u001b[0;34m,\u001b[0m\u001b[0mimg\u001b[0m\u001b[0;34m)\u001b[0m\u001b[0;34m\u001b[0m\u001b[0;34m\u001b[0m\u001b[0m\n\u001b[0m\u001b[1;32m     10\u001b[0m         \u001b[0;31m# wait for 1 second\u001b[0m\u001b[0;34m\u001b[0m\u001b[0;34m\u001b[0m\u001b[0;34m\u001b[0m\u001b[0m\n\u001b[1;32m     11\u001b[0m         \u001b[0mk\u001b[0m \u001b[0;34m=\u001b[0m \u001b[0mcv2\u001b[0m\u001b[0;34m.\u001b[0m\u001b[0mwaitKey\u001b[0m\u001b[0;34m(\u001b[0m\u001b[0;36m50\u001b[0m\u001b[0;34m)\u001b[0m\u001b[0;34m\u001b[0m\u001b[0;34m\u001b[0m\u001b[0m\n",
      "\u001b[0;31merror\u001b[0m: OpenCV(4.5.4-dev) :-1: error: (-5:Bad argument) in function 'imshow'\n> Overload resolution failed:\n>  - imshow() takes at most 2 arguments (3 given)\n>  - imshow() takes at most 2 arguments (3 given)\n>  - imshow() takes at most 2 arguments (3 given)\n"
     ]
    }
   ],
   "source": [
    "def path_to_images(path):\n",
    "\n",
    "    for idx, file in enumerate(glob.glob(path)):\n",
    "        img = cv2.imread(file)\n",
    "        # conversion numpy array into rgb image to show\n",
    "        c = cv2.cvtColor(img, cv2.COLOR_BGR2RGB)\n",
    "\n",
    "        img = cv2.cvtColor(img, cv2.COLOR_RGB2BGR)\n",
    "        cv2.imshow('Color image',idx,img)\n",
    "        # wait for 1 second\n",
    "        k = cv2.waitKey(50)\n",
    "        # destroy the window\n",
    "        cv2.destroyAllWindows()\n",
    "        # if you press 'q' key, it will break the loop\n",
    "        if k == ord('q'):\n",
    "            break\n",
    "if __name__ == '__main__':\n",
    "\n",
    "    p=('/home/roopesh/Desktop/MediaPipe /cv-exp-framework-master/images/*.png')\n",
    "    path_to_images(p)\n",
    "\n"
   ]
  },
  {
   "cell_type": "code",
   "execution_count": null,
   "id": "9a7adca8",
   "metadata": {},
   "outputs": [],
   "source": [
    "\n",
    "# Mediapipe drawing utils and holistics\n",
    "\n",
    "mp_drawing= mp.solutions.drawing_utils\n",
    "mp_holistic =mp.solutions.holistic"
   ]
  },
  {
   "cell_type": "code",
   "execution_count": null,
   "id": "98cc3ee2",
   "metadata": {},
   "outputs": [],
   "source": [
    "# 2. Draw face landmarks with contours\n",
    "mp_drawing.draw_landmarks(image, results.face_landmarks, mp_holistic.FACEMESH_CONTOURS,\n",
    "                         mp_drawing.DrawingSpec(color=(80,110,10), thickness=1, circle_radius=1),\n",
    "                         mp_drawing.DrawingSpec(color=(171,156,156), thickness=2, circle_radius=1)\n",
    "                         )\n",
    "\n",
    "\n",
    "# 3. Draw face landmarks with facemesh\n",
    "mp_drawing.draw_landmarks(image, results.face_landmarks, mp_holistic.FACEMESH_TESSELATION,\n",
    "                         mp_drawing.DrawingSpec(color=(80,110,10), thickness=1, circle_radius=1),\n",
    "                         mp_drawing.DrawingSpec(color=(125,118,118), thickness=1, circle_radius=1)\n",
    "                         )"
   ]
  }
 ],
 "metadata": {
  "kernelspec": {
   "display_name": "Python 3",
   "language": "python",
   "name": "python3"
  },
  "language_info": {
   "codemirror_mode": {
    "name": "ipython",
    "version": 3
   },
   "file_extension": ".py",
   "mimetype": "text/x-python",
   "name": "python",
   "nbconvert_exporter": "python",
   "pygments_lexer": "ipython3",
   "version": "3.7.11"
  }
 },
 "nbformat": 4,
 "nbformat_minor": 5
}
